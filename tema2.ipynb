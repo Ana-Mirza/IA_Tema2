{
 "cells": [
  {
   "cell_type": "markdown",
   "metadata": {},
   "source": [
    "# Tema 2 - ML aplicat"
   ]
  },
  {
   "cell_type": "markdown",
   "metadata": {},
   "source": [
    "## 1. Explorarea datelor"
   ]
  },
  {
   "cell_type": "code",
   "execution_count": 3,
   "metadata": {},
   "outputs": [
    {
     "name": "stdout",
     "output_type": "stream",
     "text": [
      "Defaulting to user installation because normal site-packages is not writeable\n",
      "Requirement already satisfied: numpy in c:\\users\\anami\\appdata\\local\\packages\\pythonsoftwarefoundation.python.3.12_qbz5n2kfra8p0\\localcache\\local-packages\\python312\\site-packages (1.26.4)\n",
      "Note: you may need to restart the kernel to use updated packages.\n",
      "Defaulting to user installation because normal site-packages is not writeable\n",
      "Requirement already satisfied: matplotlib in c:\\users\\anami\\appdata\\local\\packages\\pythonsoftwarefoundation.python.3.12_qbz5n2kfra8p0\\localcache\\local-packages\\python312\\site-packages (3.8.4)\n",
      "Requirement already satisfied: contourpy>=1.0.1 in c:\\users\\anami\\appdata\\local\\packages\\pythonsoftwarefoundation.python.3.12_qbz5n2kfra8p0\\localcache\\local-packages\\python312\\site-packages (from matplotlib) (1.2.1)\n",
      "Requirement already satisfied: cycler>=0.10 in c:\\users\\anami\\appdata\\local\\packages\\pythonsoftwarefoundation.python.3.12_qbz5n2kfra8p0\\localcache\\local-packages\\python312\\site-packages (from matplotlib) (0.12.1)\n",
      "Requirement already satisfied: fonttools>=4.22.0 in c:\\users\\anami\\appdata\\local\\packages\\pythonsoftwarefoundation.python.3.12_qbz5n2kfra8p0\\localcache\\local-packages\\python312\\site-packages (from matplotlib) (4.51.0)\n",
      "Requirement already satisfied: kiwisolver>=1.3.1 in c:\\users\\anami\\appdata\\local\\packages\\pythonsoftwarefoundation.python.3.12_qbz5n2kfra8p0\\localcache\\local-packages\\python312\\site-packages (from matplotlib) (1.4.5)\n",
      "Requirement already satisfied: numpy>=1.21 in c:\\users\\anami\\appdata\\local\\packages\\pythonsoftwarefoundation.python.3.12_qbz5n2kfra8p0\\localcache\\local-packages\\python312\\site-packages (from matplotlib) (1.26.4)\n",
      "Requirement already satisfied: packaging>=20.0 in c:\\users\\anami\\appdata\\local\\packages\\pythonsoftwarefoundation.python.3.12_qbz5n2kfra8p0\\localcache\\local-packages\\python312\\site-packages (from matplotlib) (24.0)\n",
      "Requirement already satisfied: pillow>=8 in c:\\users\\anami\\appdata\\local\\packages\\pythonsoftwarefoundation.python.3.12_qbz5n2kfra8p0\\localcache\\local-packages\\python312\\site-packages (from matplotlib) (10.3.0)\n",
      "Requirement already satisfied: pyparsing>=2.3.1 in c:\\users\\anami\\appdata\\local\\packages\\pythonsoftwarefoundation.python.3.12_qbz5n2kfra8p0\\localcache\\local-packages\\python312\\site-packages (from matplotlib) (3.1.2)\n",
      "Requirement already satisfied: python-dateutil>=2.7 in c:\\users\\anami\\appdata\\local\\packages\\pythonsoftwarefoundation.python.3.12_qbz5n2kfra8p0\\localcache\\local-packages\\python312\\site-packages (from matplotlib) (2.9.0.post0)\n",
      "Requirement already satisfied: six>=1.5 in c:\\users\\anami\\appdata\\local\\packages\\pythonsoftwarefoundation.python.3.12_qbz5n2kfra8p0\\localcache\\local-packages\\python312\\site-packages (from python-dateutil>=2.7->matplotlib) (1.16.0)\n",
      "Note: you may need to restart the kernel to use updated packages.\n",
      "Defaulting to user installation because normal site-packages is not writeable\n",
      "Requirement already satisfied: pandas in c:\\users\\anami\\appdata\\local\\packages\\pythonsoftwarefoundation.python.3.12_qbz5n2kfra8p0\\localcache\\local-packages\\python312\\site-packages (2.2.2)\n",
      "Requirement already satisfied: numpy>=1.26.0 in c:\\users\\anami\\appdata\\local\\packages\\pythonsoftwarefoundation.python.3.12_qbz5n2kfra8p0\\localcache\\local-packages\\python312\\site-packages (from pandas) (1.26.4)\n",
      "Requirement already satisfied: python-dateutil>=2.8.2 in c:\\users\\anami\\appdata\\local\\packages\\pythonsoftwarefoundation.python.3.12_qbz5n2kfra8p0\\localcache\\local-packages\\python312\\site-packages (from pandas) (2.9.0.post0)\n",
      "Requirement already satisfied: pytz>=2020.1 in c:\\users\\anami\\appdata\\local\\packages\\pythonsoftwarefoundation.python.3.12_qbz5n2kfra8p0\\localcache\\local-packages\\python312\\site-packages (from pandas) (2024.1)\n",
      "Requirement already satisfied: tzdata>=2022.7 in c:\\users\\anami\\appdata\\local\\packages\\pythonsoftwarefoundation.python.3.12_qbz5n2kfra8p0\\localcache\\local-packages\\python312\\site-packages (from pandas) (2024.1)\n",
      "Requirement already satisfied: six>=1.5 in c:\\users\\anami\\appdata\\local\\packages\\pythonsoftwarefoundation.python.3.12_qbz5n2kfra8p0\\localcache\\local-packages\\python312\\site-packages (from python-dateutil>=2.8.2->pandas) (1.16.0)\n",
      "Note: you may need to restart the kernel to use updated packages.\n"
     ]
    }
   ],
   "source": [
    "%pip install numpy\n",
    "%pip install matplotlib\n",
    "%pip install pandas"
   ]
  },
  {
   "cell_type": "code",
   "execution_count": 4,
   "metadata": {},
   "outputs": [],
   "source": [
    "import pandas as pd\n",
    "import numpy as np\n",
    "import matplotlib.pyplot as plt"
   ]
  },
  {
   "cell_type": "markdown",
   "metadata": {},
   "source": [
    "### Citirea datelor"
   ]
  },
  {
   "cell_type": "code",
   "execution_count": 5,
   "metadata": {},
   "outputs": [],
   "source": [
    "def read_csv(file_path):\n",
    "    \"\"\"\n",
    "    Funcția citește un fișier CSV și returnează un DataFrame Pandas\n",
    "    \"\"\"\n",
    "    try:\n",
    "        df = pd.read_csv(file_path)\n",
    "        return df\n",
    "    except FileNotFoundError:\n",
    "        print(f\"Fișierul '{file_path}' nu a fost găsit.\")\n",
    "    except pd.errors.EmptyDataError:\n",
    "        print(f\"Fișierul '{file_path}' este gol.\")\n",
    "    except pd.errors.ParserError:\n",
    "        print(f\"A existat o eroare la parsarea fișierului '{file_path}'.\")\n",
    "    except Exception as e:\n",
    "        print(f\"A apărut o eroare: {e}\")"
   ]
  },
  {
   "cell_type": "code",
   "execution_count": 349,
   "metadata": {},
   "outputs": [],
   "source": [
    "full_file = './tema2_SalaryPrediction/SalaryPrediction_full.csv'\n",
    "train_file = './tema2_SalaryPrediction/SalaryPrediction_train.csv'\n",
    "test_file = './tema2_SalaryPrediction/SalaryPrediction_test.csv'\n",
    "\n",
    "full_file_avc = './tema2_SalaryPrediction/SalaryPrediction_full.csv'\n",
    "train_file_avc = './tema2_SalaryPrediction/SalaryPrediction_train.csv'\n",
    "test_file_avc = './tema2_SalaryPrediction/SalaryPrediction_test.csv'"
   ]
  },
  {
   "cell_type": "markdown",
   "metadata": {},
   "source": [
    "### Analiza atributelor numerice"
   ]
  },
  {
   "cell_type": "code",
   "execution_count": 7,
   "metadata": {},
   "outputs": [],
   "source": [
    "def generate_numerical_atributes_statistic(df):\n",
    "    \"\"\"\n",
    "    Funcția extrage statistici pentru atributele numerice continue și generează grafice Boxplot.\n",
    "\n",
    "    :param df: DataFrame Pandas cu datele din fișierul CSV\n",
    "    \"\"\"\n",
    "\n",
    "    # Afișează statisticile\n",
    "    stats = df.describe(percentiles=[.25, .5, .75], include=[np.number])\n",
    "    print(\"Statistici pentru atributele numerice continue:\\n\")\n",
    "    print(stats, '\\n')\n",
    "\n",
    "    # Generează grafice Boxplot\n",
    "    plt.figure(figsize=(10, 8))\n",
    "    df.boxplot()\n",
    "    plt.title('Boxplot pentru atributele numerice continue')\n",
    "    plt.xticks(rotation=90)\n",
    "    plt.show()"
   ]
  },
  {
   "cell_type": "code",
   "execution_count": null,
   "metadata": {},
   "outputs": [
    {
     "ename": "TypeError",
     "evalue": "read_csv() missing 1 required positional argument: 'file_path'",
     "output_type": "error",
     "traceback": [
      "\u001b[1;31m---------------------------------------------------------------------------\u001b[0m",
      "\u001b[1;31mTypeError\u001b[0m                                 Traceback (most recent call last)",
      "Cell \u001b[1;32mIn[350], line 2\u001b[0m\n\u001b[0;32m      1\u001b[0m \u001b[38;5;66;03m# Extrage statistici și generează grafice Boxplot\u001b[39;00m\n\u001b[1;32m----> 2\u001b[0m X_train \u001b[38;5;241m=\u001b[39m \u001b[43mread_csv\u001b[49m\u001b[43m(\u001b[49m\u001b[43m)\u001b[49m\n\u001b[0;32m      3\u001b[0m generate_numerical_atributes_statistic(full_file_avc)\n",
      "\u001b[1;31mTypeError\u001b[0m: read_csv() missing 1 required positional argument: 'file_path'"
     ]
    }
   ],
   "source": [
    "# Extrage statistici și generează grafice Boxplot\n",
    "X_train = read_csv(full_file_avc)\n",
    "generate_numerical_atributes_statistic(X_train)"
   ]
  },
  {
   "cell_type": "markdown",
   "metadata": {},
   "source": [
    "### Analiza atributelor categorice sau ordinale"
   ]
  },
  {
   "cell_type": "code",
   "execution_count": 9,
   "metadata": {},
   "outputs": [],
   "source": [
    "def generate_discrete_atributes_statistics(df):\n",
    "    \"\"\"\n",
    "    Funcția extrage statistici pentru atributele discrete sau ordinale.\n",
    "\n",
    "    :param df: DataFrame Pandas cu datele din fișierul CSV\n",
    "    \"\"\"\n",
    "\n",
    "    # Afișează statisticile\n",
    "    print(\"Statistici pentru atributele discrete sau ordinale:\\n\")\n",
    "\n",
    "    # Selectează coloanele discrete sau ordinale\n",
    "    categorical_columns = df.select_dtypes(include=['object', 'category']).columns\n",
    "    stats_df = pd.DataFrame(columns=[\n",
    "        'Atribut', 'Număr de exemple (fără valori lipsă)', 'Număr de valori unice'\n",
    "    ])\n",
    "\n",
    "    # Calculează statisticile pentru fiecare coloană discretă sau ordinală\n",
    "    stats_list = []\n",
    "    for col in categorical_columns:\n",
    "        col_data = df[col]\n",
    "        stats_list.append({\n",
    "            'Atribut': col,\n",
    "            'Număr de exemple (fără valori lipsă)': col_data.count(),\n",
    "            'Număr de valori unice': col_data.nunique()\n",
    "        })\n",
    "\n",
    "    # Convertește lista de statistici într-un DataFrame\n",
    "    stats_df = pd.DataFrame(stats_list)\n",
    "    \n",
    "    print(stats_df, \"\\n\")\n",
    "\n",
    "\n",
    "    #################### Varianta 2 ######################\n",
    "    stats = df.describe(include=['O', 'category'])\n",
    "    stats = stats.loc[['count', 'unique']]\n",
    "    # print(stats, '\\n')\n",
    "\n",
    "    # Afișează histogramă\n",
    "    for col in categorical_columns:\n",
    "        # Obține seria de frecvență a valorilor unice\n",
    "        col_value_counts = df[col].value_counts()\n",
    "        # Crează o histogrmă cu frecvențele valorilor unice\n",
    "        col_value_counts.hist()\n",
    "    "
   ]
  },
  {
   "cell_type": "code",
   "execution_count": 70,
   "metadata": {},
   "outputs": [
    {
     "name": "stdout",
     "output_type": "stream",
     "text": [
      "Statistici pentru atributele discrete sau ordinale:\n",
      "\n",
      "     Atribut  Număr de exemple (fără valori lipsă)  Număr de valori unice\n",
      "0   relation                                  7999                      6\n",
      "1    country                                  7999                     40\n",
      "2        job                                  7999                     14\n",
      "3  work_type                                  7999                      9\n",
      "4    partner                                  7999                      7\n",
      "5        edu                                  7999                     16\n",
      "6     gender                                  7199                      2\n",
      "7       race                                  7999                      5\n",
      "8      gtype                                  7999                      2\n",
      "9      money                                  7999                      2 \n",
      "\n"
     ]
    },
    {
     "data": {
      "image/png": "[encoded data removed]",
      "text/plain": [
       "<Figure size 640x480 with 1 Axes>"
      ]
     },
     "metadata": {},
     "output_type": "display_data"
    }
   ],
   "source": [
    "generate_discrete_atributes_statistics(X_train)"
   ]
  },
  {
   "cell_type": "markdown",
   "metadata": {},
   "source": [
    "### Analiza corelației între atribute"
   ]
  },
  {
   "cell_type": "code",
   "execution_count": 46,
   "metadata": {},
   "outputs": [],
   "source": [
    "def numerical_atributes_corelation_analysis(df, display: bool = False):\n",
    "    \"\"\"\n",
    "    Funcția analizează corelația între atributele numerice utilizând criteriul Pearson și\n",
    "    afișează matricea de corelație utilizând matshow.\n",
    "\n",
    "    :param df: DataFrame Pandas cu datele din fișierul CSV\n",
    "    \"\"\"\n",
    "    # Selectează doar atributele numerice\n",
    "    numerical_columns = df.select_dtypes(include=[np.number]).columns\n",
    "    df = df[numerical_columns]\n",
    "\n",
    "    # Calculează matricea de corelație\n",
    "    corr_matrix = df.corr()\n",
    "\n",
    "    if display == True:\n",
    "        print(\"Matricea de corelație pentru atributele numerice:\")\n",
    "        print(corr_matrix, \"\\n\")\n",
    "        \n",
    "        # Vizualizează matricea de corelație\n",
    "        fig = plt.figure(figsize=(10, 10))\n",
    "        ax = fig.add_subplot(111)\n",
    "        cax = ax.matshow(corr_matrix, vmin=-1, vmax=1)\n",
    "        fig.colorbar(cax)\n",
    "        ticks = np.arange(0, len(df.columns), 1)\n",
    "        ax.set_xticks(ticks)\n",
    "        ax.set_yticks(ticks)\n",
    "        ax.set_xticklabels(df.columns)\n",
    "        ax.set_yticklabels(df.columns)\n",
    "        plt.show()\n",
    "\n",
    "    return corr_matrix\n",
    "\n",
    "# Printează matricea de corelație pentru atributele numerice\n",
    "def print_corr_matrix(corr_matrix):\n",
    "    \"\"\"\n",
    "    Funcția afișează matricea de corelație utilizând matshow.\n",
    "\n",
    "    :param corr_matrix: Matricea de corelație\n",
    "    \"\"\"\n",
    "    print(\"Matricea de corelație pentru atributele numerice:\")\n",
    "    print(corr_matrix, \"\\n\")\n",
    "    \n",
    "    # Vizualizează matricea de corelație\n",
    "    fig = plt.figure(figsize=(120, 10))\n",
    "    ax = fig.add_subplot(111)\n",
    "    cax = ax.matshow(corr_matrix, vmin=-1, vmax=1)\n",
    "    fig.colorbar(cax)\n",
    "    ticks = np.arange(0, len(df.columns), 1)\n",
    "    ax.set_xticks(ticks)\n",
    "    ax.set_yticks(ticks)\n",
    "    ax.set_xticklabels(df.columns)\n",
    "    ax.set_yticklabels(df.columns)\n",
    "    plt.show()"
   ]
  },
  {
   "cell_type": "code",
   "execution_count": 71,
   "metadata": {},
   "outputs": [
    {
     "name": "stdout",
     "output_type": "stream",
     "text": [
      "Matricea de corelație pentru atributele numerice:\n",
      "              fnl       hpw      gain   edu_int     years      loss      prod\n",
      "fnl      1.000000 -0.025549  0.009165  0.009604 -0.071192 -0.009559  0.009156\n",
      "hpw     -0.025549  1.000000  0.100945  0.012033  0.068477  0.045460  0.100957\n",
      "gain     0.009165  0.100945  1.000000  0.011041  0.088951 -0.028738  0.999998\n",
      "edu_int  0.009604  0.012033  0.011041  1.000000 -0.005256  0.008728  0.011030\n",
      "years   -0.071192  0.068477  0.088951 -0.005256  1.000000  0.045554  0.089012\n",
      "loss    -0.009559  0.045460 -0.028738  0.008728  0.045554  1.000000 -0.028722\n",
      "prod     0.009156  0.100957  0.999998  0.011030  0.089012 -0.028722  1.000000 \n",
      "\n"
     ]
    },
    {
     "data": {
      "image/png": "[encoded data removed]",
      "text/plain": [
       "<Figure size 1000x1000 with 2 Axes>"
      ]
     },
     "metadata": {},
     "output_type": "display_data"
    }
   ],
   "source": [
    "# Analizează corelația între atributele numerice\n",
    "corr_matrix = numerical_atributes_corelation_analysis(X_train, display=True)\n",
    "\n",
    "# Afișează matricea de corelație\n",
    "# print_corr_matrix(corr_matrix)"
   ]
  },
  {
   "cell_type": "code",
   "execution_count": 92,
   "metadata": {},
   "outputs": [],
   "source": [
    "from scipy.stats import chi2_contingency\n",
    "\n",
    "def category_atributes_corelation_analysis(df, display: bool = False):\n",
    "    \"\"\"\n",
    "    Funcția analizează corelația între atributele categorice utilizând testul Chi-Pătrat.\n",
    "\n",
    "    :param df: DataFrame Pandas cu datele din fișierul CSV\n",
    "    \"\"\"\n",
    "    # Selectează coloanele categorice\n",
    "    categorical_columns = df.select_dtypes(include=['object', 'category']).columns\n",
    "\n",
    "    # Setează nivelul de semnificație\n",
    "    alpha = 0.05\n",
    "\n",
    "    # Generează testele Chi-Pătrat pentru fiecare pereche de coloane categorice\n",
    "    chi2_results = []\n",
    "    to_drop = set()\n",
    "    for i, col1 in enumerate(categorical_columns):\n",
    "        for col2 in categorical_columns[i + 1:]:\n",
    "            CrosstabResult = pd.crosstab(df[col1], df[col2])\n",
    "            ChiSqResult = chi2_contingency(CrosstabResult)\n",
    "            chi2_results.append({\n",
    "                'Atribute': f\"{col1} vs {col2}\",\n",
    "                'p-value': ChiSqResult[1]\n",
    "            })\n",
    "            if ChiSqResult[1] < alpha:\n",
    "                to_drop.add(col2)\n",
    "\n",
    "    # Convertește rezultatele într-un DataFrame\n",
    "    chi2_df = pd.DataFrame(chi2_results)\n",
    "    \n",
    "    # if display == True:\n",
    "    #     # Afișează rezultatele testului Chi-Pătrat\n",
    "    #     print(\"Rezultatele testului Chi-Pătrat pentru atributele categorice:\\n\")\n",
    "    #     print(chi2_df, \"\\n\")\n",
    "\n",
    "    return chi2_df, to_drop"
   ]
  },
  {
   "cell_type": "code",
   "execution_count": 106,
   "metadata": {},
   "outputs": [
    {
     "data": {
      "text/plain": [
       "(                 Atribute        p-value\n",
       " 0     relation vs country   7.952709e-33\n",
       " 1         relation vs job  2.633000e-243\n",
       " 2   relation vs work_type   8.783667e-78\n",
       " 3     relation vs partner   0.000000e+00\n",
       " 4         relation vs edu  2.600025e-100\n",
       " 5      relation vs gender   0.000000e+00\n",
       " 6        relation vs race   8.835463e-69\n",
       " 7       relation vs gtype   0.000000e+00\n",
       " 8       relation vs money   0.000000e+00\n",
       " 9          country vs job   3.006992e-34\n",
       " 10   country vs work_type   8.867671e-01\n",
       " 11     country vs partner   2.696167e-16\n",
       " 12         country vs edu  6.429982e-296\n",
       " 13      country vs gender   1.145230e-02\n",
       " 14        country vs race   0.000000e+00\n",
       " 15       country vs gtype   4.113311e-03\n",
       " 16       country vs money   4.647041e-05\n",
       " 17       job vs work_type   0.000000e+00\n",
       " 18         job vs partner  1.393447e-138\n",
       " 19             job vs edu   0.000000e+00\n",
       " 20          job vs gender  1.993663e-259\n",
       " 21            job vs race   1.432028e-28\n",
       " 22           job vs gtype  4.732401e-297\n",
       " 23           job vs money  2.948681e-193\n",
       " 24   work_type vs partner   1.308664e-60\n",
       " 25       work_type vs edu   1.410830e-87\n",
       " 26    work_type vs gender   4.058695e-34\n",
       " 27      work_type vs race   3.326901e-12\n",
       " 28     work_type vs gtype   1.712261e-37\n",
       " 29     work_type vs money   1.798654e-48\n",
       " 30         partner vs edu   1.104717e-53\n",
       " 31      partner vs gender   0.000000e+00\n",
       " 32        partner vs race   1.110087e-36\n",
       " 33       partner vs gtype   0.000000e+00\n",
       " 34       partner vs money   0.000000e+00\n",
       " 35          edu vs gender   4.643455e-14\n",
       " 36            edu vs race   8.151818e-24\n",
       " 37           edu vs gtype   3.093121e-18\n",
       " 38           edu vs money  9.388132e-215\n",
       " 39         gender vs race   4.595016e-26\n",
       " 40        gender vs gtype   0.000000e+00\n",
       " 41        gender vs money   2.396399e-70\n",
       " 42          race vs gtype   6.761464e-29\n",
       " 43          race vs money   3.129511e-20\n",
       " 44         gtype vs money   2.542574e-78,\n",
       " {'country',\n",
       "  'edu',\n",
       "  'gender',\n",
       "  'gtype',\n",
       "  'job',\n",
       "  'money',\n",
       "  'partner',\n",
       "  'race',\n",
       "  'work_type'})"
      ]
     },
     "execution_count": 106,
     "metadata": {},
     "output_type": "execute_result"
    }
   ],
   "source": [
    "category_atributes_corelation_analysis(X_train, display=True)"
   ]
  },
  {
   "cell_type": "markdown",
   "metadata": {},
   "source": [
    "## 2.  Preprocesarea datelor"
   ]
  },
  {
   "cell_type": "markdown",
   "metadata": {},
   "source": [
    "### Date lipsă pentru un atribut într-un eșantion"
   ]
  },
  {
   "cell_type": "code",
   "execution_count": 16,
   "metadata": {},
   "outputs": [],
   "source": [
    "from sklearn.experimental import enable_iterative_imputer\n",
    "from sklearn.impute import SimpleImputer, IterativeImputer\n",
    "\n",
    "def impute_missing_values(df, method: str):\n",
    "    \"\"\"\n",
    "    Funcția completează valorile lipsă din DataFrame-ul dat.\n",
    "\n",
    "    :param df: DataFrame Pandas cu datele din fișierul CSV\n",
    "    :param method: Metoda de completare a valorilor lipsă (SimpleImputer, IterativeImputer)\n",
    "    \"\"\"\n",
    "    \n",
    "    # Verifică dacă metoda este validă\n",
    "    if method not in ['SimpleImputer', 'IterativeImputer']:\n",
    "        print(f\"Metoda '{method}' nu este validă.\")\n",
    "        return\n",
    "\n",
    "    # Copiază DataFrame-ul pentru a nu modifica originalul\n",
    "    filled_df = df.copy(deep=True)\n",
    "    numeric_columns = df.select_dtypes(include=[np.number]).columns\n",
    "    category_columns = df.select_dtypes(include=['object', 'category']).columns\n",
    "\n",
    "    # Completează valorile lipsă\n",
    "    if method == 'SimpleImputer':\n",
    "        # Selectează doar coloanele numerice\n",
    "\n",
    "        # Completează valorile lipsă cu media\n",
    "        imp = SimpleImputer(missing_values=np.nan, strategy='mean')\n",
    "        filled_df[numeric_columns] = imp.fit_transform(filled_df[numeric_columns])\n",
    "\n",
    "        # Completează valorile lipsă categorice cu valoarea cea mai frecventă\n",
    "        imp = SimpleImputer(strategy=\"most_frequent\")\n",
    "        filled_df[category_columns] = imp.fit_transform(filled_df[category_columns])\n",
    "\n",
    "        return filled_df\n",
    "    else:\n",
    "        # Completează valorile lipsă numerice folosind metoda IterativeImputer\n",
    "        imp = IterativeImputer(max_iter=10, random_state=0, missing_values=np.nan)\n",
    "        imp.fit(filled_df[numeric_columns])\n",
    "        filled_df[numeric_columns] = imp.transform(filled_df[numeric_columns])\n",
    "\n",
    "        # Completează valorile lipsă categorice cu valoarea cea mai frecventă\n",
    "        # imp = IterativeImputer(max_iter=10, random_state=0, initial_strategy=\"most_frequent\")\n",
    "        # imp.fit(filled_df[category_columns])\n",
    "        # filled_df[category_columns] = imp.transform(filled_df[category_columns])\n",
    "\n",
    "        return filled_df"
   ]
  },
  {
   "cell_type": "code",
   "execution_count": 17,
   "metadata": {},
   "outputs": [
    {
     "data": {
      "text/plain": [
       "fnl        9999.0\n",
       "hpw        9999.0\n",
       "gain       9999.0\n",
       "edu_int    9999.0\n",
       "years      9999.0\n",
       "loss       9999.0\n",
       "prod       9999.0\n",
       "Name: count, dtype: float64"
      ]
     },
     "execution_count": 17,
     "metadata": {},
     "output_type": "execute_result"
    }
   ],
   "source": [
    "# Completează valorile lipsă folosind SimpleImputer\n",
    "df_simple_filled = impute_missing_values(df, 'SimpleImputer')\n",
    "# print(filled_df)\n",
    "df_simple_filled.describe().loc['count']"
   ]
  },
  {
   "cell_type": "code",
   "execution_count": 18,
   "metadata": {},
   "outputs": [
    {
     "data": {
      "text/plain": [
       "fnl        9999.0\n",
       "hpw        9999.0\n",
       "gain       9999.0\n",
       "edu_int    9999.0\n",
       "years      9999.0\n",
       "loss       9999.0\n",
       "prod       9999.0\n",
       "Name: count, dtype: float64"
      ]
     },
     "execution_count": 18,
     "metadata": {},
     "output_type": "execute_result"
    }
   ],
   "source": [
    "# Completează valorile lipsă folosind IterativeImputer\n",
    "df_iterative_filled = impute_missing_values(df, 'IterativeImputer')\n",
    "# print(filled_df)\n",
    "df_iterative_filled.describe().loc['count']"
   ]
  },
  {
   "cell_type": "markdown",
   "metadata": {},
   "source": [
    "### Valori extreme pentru un atribut într-un eșantion"
   ]
  },
  {
   "cell_type": "code",
   "execution_count": 19,
   "metadata": {},
   "outputs": [],
   "source": [
    "def detect_and_exclude_outliers(df):\n",
    "    \"\"\"\n",
    "    Funcția detectează și elimină outlierii din DataFrame-ul dat.\n",
    "    \"\"\"\n",
    "    # Selectează doar atributele numerice\n",
    "    numerical_columns = df.select_dtypes(include=[np.number]).columns\n",
    "    threshold = 1.5\n",
    "\n",
    "    # Elimină outlierii\n",
    "    for col in numerical_columns:\n",
    "        Q1 = df[col].quantile(0.1)\n",
    "        Q3 = df[col].quantile(0.9)\n",
    "        IQR = Q3 - Q1\n",
    "        lower_bound = Q1 - threshold * IQR\n",
    "        upper_bound = Q3 + threshold * IQR\n",
    "\n",
    "        # Setați valorile care sunt în afara intervalului ca NaN\n",
    "        df[col] = df[col].mask((df[col] < lower_bound) | (df[col] > upper_bound))"
   ]
  },
  {
   "cell_type": "code",
   "execution_count": 20,
   "metadata": {},
   "outputs": [
    {
     "data": {
      "text/plain": [
       "fnl        9983.0\n",
       "hpw        9199.0\n",
       "gain       9219.0\n",
       "edu_int    9703.0\n",
       "years      9999.0\n",
       "loss       9549.0\n",
       "prod       9219.0\n",
       "Name: count, dtype: float64"
      ]
     },
     "execution_count": 20,
     "metadata": {},
     "output_type": "execute_result"
    }
   ],
   "source": [
    "# Elimină outlierii\n",
    "new_df = df.copy(deep=True)\n",
    "detect_and_exclude_outliers(new_df)\n",
    "new_df.describe().loc['count']"
   ]
  },
  {
   "cell_type": "code",
   "execution_count": 21,
   "metadata": {},
   "outputs": [
    {
     "data": {
      "text/plain": [
       "fnl        9999.0\n",
       "hpw        9999.0\n",
       "gain       9999.0\n",
       "edu_int    9999.0\n",
       "years      9999.0\n",
       "loss       9999.0\n",
       "prod       9999.0\n",
       "Name: count, dtype: float64"
      ]
     },
     "execution_count": 21,
     "metadata": {},
     "output_type": "execute_result"
    }
   ],
   "source": [
    "# Imputare valori lipsă\n",
    "new_df = impute_missing_values(df, 'IterativeImputer')\n",
    "new_df.describe().loc['count']"
   ]
  },
  {
   "cell_type": "markdown",
   "metadata": {},
   "source": [
    "### Atribute redundante (puternic corelate)"
   ]
  },
  {
   "cell_type": "code",
   "execution_count": 162,
   "metadata": {},
   "outputs": [],
   "source": [
    "def eliminate_redundant_atributes(df, display: bool = False):\n",
    "    \"\"\"\n",
    "    Funcția elimină atributele redundante din DataFrame-ul dat.\n",
    "    \"\"\"\n",
    "    # Obține matricea de corelație\n",
    "    corr_matrix = numerical_atributes_corelation_analysis(df).abs()\n",
    "\n",
    "    if display == True:\n",
    "        print(corr_matrix)\n",
    "\n",
    "    # Pragul pentru a considera corelația puternică\n",
    "    threshold = 0.8\n",
    "\n",
    "    # Identifică coloanele care sunt puternic corelate\n",
    "    # Selectează triunghiul superior al matricei de corelație\n",
    "    upper = corr_matrix.where(np.triu(np.ones(corr_matrix.shape), k=1).astype(bool))\n",
    "\n",
    "    # Găsește coloanele care au corelații puternice\n",
    "    to_drop = [column for column in upper.columns if any(upper[column] > threshold)]\n",
    "\n",
    "    # Elimină coloanele care sunt puternic corelate\n",
    "    df_reduced = df.drop(columns=to_drop)\n",
    "\n",
    "    if display == True:\n",
    "        print(\"\\nColoanele eliminate: \", to_drop)\n",
    "\n",
    "    # afisare coloane numerice\n",
    "    numerical_columns = df_reduced.select_dtypes(include=[np.number]).columns\n",
    "\n",
    "    if display == True:\n",
    "        print(\"\\nDataFrame-ul după eliminarea coloanelor puternic corelate:\\n\", df_reduced[numerical_columns].head())\n",
    "\n",
    "    # Elimină coloanele categorice puternic corelate\n",
    "    chi2_df, to_drop = category_atributes_corelation_analysis(df_reduced)\n",
    "\n",
    "    # Dacă majoritatea sunt corelate, nu eliminăm nicio coloană\n",
    "    if len(to_drop) < len(df_reduced.columns) / 3:\n",
    "        df_reduced = df.drop(columns=to_drop)\n",
    "\n",
    "    if display == True:\n",
    "        print(\"\\nDataFrame-ul după eliminarea coloanelor puternic corelate:\\n\", df_reduced)\n",
    "\n",
    "    df = df_reduced\n"
   ]
  },
  {
   "cell_type": "code",
   "execution_count": 146,
   "metadata": {},
   "outputs": [
    {
     "name": "stdout",
     "output_type": "stream",
     "text": [
      "              fnl       hpw      gain   edu_int     years      loss      prod\n",
      "fnl      1.000000  0.025549  0.009165  0.009604  0.071192  0.009559  0.009156\n",
      "hpw      0.025549  1.000000  0.100945  0.012033  0.068477  0.045460  0.100957\n",
      "gain     0.009165  0.100945  1.000000  0.011041  0.088951  0.028738  0.999998\n",
      "edu_int  0.009604  0.012033  0.011041  1.000000  0.005256  0.008728  0.011030\n",
      "years    0.071192  0.068477  0.088951  0.005256  1.000000  0.045554  0.089012\n",
      "loss     0.009559  0.045460  0.028738  0.008728  0.045554  1.000000  0.028722\n",
      "prod     0.009156  0.100957  0.999998  0.011030  0.089012  0.028722  1.000000\n",
      "\n",
      "Coloanele eliminate:  ['prod']\n",
      "\n",
      "DataFrame-ul după eliminarea coloanelor puternic corelate:\n",
      "       fnl   hpw  gain  edu_int  years  loss\n",
      "0  264627  40.0     0       10     38     0\n",
      "1  151369  40.0     0        9     62     0\n",
      "2  188615  60.0     0       13     42     0\n",
      "3  151089  55.0     0       10     41  2415\n",
      "4  177625  40.0     0        9     25     0\n",
      "\n",
      "DataFrame-ul după eliminarea coloanelor puternic corelate:\n",
      "          fnl   hpw relation  gain        country                job  edu_int  \\\n",
      "0     264627  40.0     NotM     0  United-States       Adm-clerical       10   \n",
      "1     151369  40.0     NotF     0  United-States       Craft-repair        9   \n",
      "2     188615  60.0        H     0  United-States              Sales       13   \n",
      "3     151089  55.0        H     0  United-States    Exec-managerial       10   \n",
      "4     177625  40.0     NotF     0  United-States  Machine-op-inspct        9   \n",
      "...      ...   ...      ...   ...            ...                ...      ...   \n",
      "7994  301614  48.0        H     0  United-States    Protective-serv       11   \n",
      "7995   50122  50.0     OwnC     0  United-States              Sales       11   \n",
      "7996   78022  40.0        H     0  United-States       Adm-clerical        9   \n",
      "7997   34574  43.0        H     0  United-States   Transport-moving        9   \n",
      "7998  400132   NaN        H     0  United-States    Protective-serv      183   \n",
      "\n",
      "      years  loss work_type partner  edu gender   race gtype  money  \n",
      "0        38     0      Priv       D   SC    NaN  White    DC  <=50K  \n",
      "1        62     0      LGov      NM  HSG      M  White    AC  <=50K  \n",
      "2        42     0   SelfInc     MCS    B      M  White    AC   >50K  \n",
      "3        41  2415   SelfInc     MCS   SC      M  White    AC   >50K  \n",
      "4        25     0      Priv      NM  HSG      M  White    AC  <=50K  \n",
      "...     ...   ...       ...     ...  ...    ...    ...   ...    ...  \n",
      "7994     39     0      LGov     MCS   AV      M  White    AC   >50K  \n",
      "7995     41     0      Priv       D   AV      M  White    AC  <=50K  \n",
      "7996     46     0      FGov     MCS  HSG      M  White    AC   >50K  \n",
      "7997     33     0      Priv     MCS  HSG      M  White    AC  <=50K  \n",
      "7998     32     0      SGov     MCS    B      M  White    AC   >50K  \n",
      "\n",
      "[7999 rows x 16 columns]\n"
     ]
    }
   ],
   "source": [
    "# Testare eliminare atribute redundante\n",
    "X_train = read_csv(train_file)\n",
    "X_train = eliminate_redundant_atributes(X_train, display=True)"
   ]
  },
  {
   "cell_type": "markdown",
   "metadata": {},
   "source": [
    "### Standardizarea datelor"
   ]
  },
  {
   "cell_type": "code",
   "execution_count": 303,
   "metadata": {},
   "outputs": [],
   "source": [
    "from sklearn import preprocessing\n",
    "from sklearn.preprocessing import StandardScaler\n",
    "from sklearn.preprocessing import MinMaxScaler\n",
    "from sklearn.preprocessing import RobustScaler\n",
    "\n",
    "def normalize_data(X_train, method: str):\n",
    "    \"\"\"\n",
    "    Funcția normalizează datele din DataFrame-ul dat.\n",
    "\n",
    "    :param df: DataFrame Pandas cu datele din fișierul CSV\n",
    "    :param method: Metoda de normalizare a datelor (StandardScaler, MinMaxScaler, RobustScaler)   \n",
    "    \"\"\"\n",
    "    # Selectează doar atributele numerice\n",
    "    numerical_columns = X_train.select_dtypes(include=[np.number]).columns\n",
    "\n",
    "    # Normalizează datele\n",
    "    if method == 'StandardScaler':\n",
    "        scaler = preprocessing.StandardScaler().fit(X_train[numerical_columns])\n",
    "        scaler.mean_\n",
    "        scaler.scale_\n",
    "\n",
    "        X_train_minmax = X_train\n",
    "        \n",
    "        X_train_minmax[numerical_columns] = scaler.transform(X_train[numerical_columns])\n",
    "\n",
    "        return X_train_minmax\n",
    "\n",
    "    elif method == 'MinMaxScaler':\n",
    "        max_abs_scaler = preprocessing.MaxAbsScaler()\n",
    "\n",
    "        X_train_maxabs = X_train\n",
    "\n",
    "        X_train_maxabs[numerical_columns] = max_abs_scaler.fit_transform(X_train[numerical_columns])\n",
    "\n",
    "        return X_train_maxabs\n",
    "\n",
    "    elif method == 'RobustScaler':\n",
    "        robust_scaler = preprocessing.RobustScaler()\n",
    "\n",
    "        X_train_robust = X_train\n",
    "\n",
    "        X_train_robust[numerical_columns] = robust_scaler.fit_transform(X_train[numerical_columns])\n",
    "\n",
    "        return X_train_robust\n",
    "        "
   ]
  },
  {
   "cell_type": "code",
   "execution_count": 148,
   "metadata": {},
   "outputs": [
    {
     "name": "stdout",
     "output_type": "stream",
     "text": [
      "        fnl   hpw relation  gain        country                job  edu_int  \\\n",
      "0  264627.0  40.0     NotM   0.0  United-States       Adm-clerical     10.0   \n",
      "1  151369.0  40.0     NotF   0.0  United-States       Craft-repair      9.0   \n",
      "2  188615.0  60.0        H   0.0  United-States              Sales     13.0   \n",
      "3  151089.0  55.0        H   0.0  United-States    Exec-managerial     10.0   \n",
      "4  177625.0  40.0     NotF   0.0  United-States  Machine-op-inspct      9.0   \n",
      "\n",
      "   years    loss work_type partner  edu gender   race   prod gtype  money  \n",
      "0   38.0     0.0      Priv       D   SC      M  White   77.0    DC  <=50K  \n",
      "1   62.0     0.0      LGov      NM  HSG      M  White   87.0    AC  <=50K  \n",
      "2   42.0     0.0   SelfInc     MCS    B      M  White   77.0    AC   >50K  \n",
      "3   41.0  2415.0   SelfInc     MCS   SC      M  White  107.0    AC   >50K  \n",
      "4   25.0     0.0      Priv      NM  HSG      M  White   57.0    AC  <=50K  \n"
     ]
    }
   ],
   "source": [
    "# Datele originale\n",
    "X_train = read_csv(train_file)\n",
    "X_test = read_csv(test_file)\n",
    "\n",
    "X_train = impute_missing_values(X_train, method='SimpleImputer')\n",
    "X_test = impute_missing_values(X_test, method='SimpleImputer')\n",
    "\n",
    "print(X_train.head())"
   ]
  },
  {
   "cell_type": "code",
   "execution_count": 151,
   "metadata": {},
   "outputs": [
    {
     "name": "stdout",
     "output_type": "stream",
     "text": [
      "        fnl       hpw relation      gain        country               job  \\\n",
      "0  2.050886 -0.864440        H  0.243080  United-States                 ?   \n",
      "1 -0.821772 -0.064625    Other -0.138995  United-States      Tech-support   \n",
      "2 -0.046235 -0.064625        H -0.138995  United-States   Exec-managerial   \n",
      "3  1.400660 -0.064625        H -0.138995           Hong   Protective-serv   \n",
      "4 -0.867612  0.335283        H -0.138995  United-States  Transport-moving   \n",
      "\n",
      "    edu_int     years      loss work_type partner  edu gender  \\\n",
      "0 -0.228353  1.919606 -0.245606         ?     MCS  HSG      M   \n",
      "1 -0.192723 -0.096825 -0.245606      Priv      NM   SC      F   \n",
      "2 -0.228353  0.047206 -0.245606      Priv     MCS  HSG      M   \n",
      "3 -0.121463 -0.744963 -0.245606      LGov     MCS   AA      M   \n",
      "4 -0.121463  0.695345 -0.245606      Priv     MCS   AA      M   \n",
      "\n",
      "                 race      prod gtype  money  \n",
      "0               White  0.244809    AC  <=50K  \n",
      "1               White -0.141210    DC  <=50K  \n",
      "2               White -0.140023    AC  <=50K  \n",
      "3  Asian-Pac-Islander -0.138836    AC   >50K  \n",
      "4               White -0.137253    AC  <=50K  \n"
     ]
    }
   ],
   "source": [
    "# Citește datele\n",
    "X_train = read_csv(train_file)\n",
    "X_test = read_csv(test_file)\n",
    "\n",
    "# Imupută valorile lipsă\n",
    "X_train = impute_missing_values(X_train, method='SimpleImputer')\n",
    "X_test = impute_missing_values(X_test, method='SimpleImputer')\n",
    "\n",
    "# Normalizează datele folosind StandardScaler\n",
    "X_train, X_test = normalize_data(X_test, X_train, 'StandardScaler')\n",
    "print(X_train.head())"
   ]
  },
  {
   "cell_type": "code",
   "execution_count": 25,
   "metadata": {},
   "outputs": [
    {
     "name": "stdout",
     "output_type": "stream",
     "text": [
      "        fnl       hpw relation     gain        country               job  \\\n",
      "0  0.391592  0.303030        H  0.02414  United-States                 ?   \n",
      "1  0.100583  0.404040    Other  0.00000  United-States      Tech-support   \n",
      "2  0.179147  0.404040        H  0.00000  United-States   Exec-managerial   \n",
      "3  0.325722  0.404040        H  0.00000           Hong   Protective-serv   \n",
      "4  0.095940  0.454545        H  0.00000  United-States  Transport-moving   \n",
      "\n",
      "    edu_int     years  loss work_type partner  edu gender                race  \\\n",
      "0  0.043689  0.722222   0.0         ?     MCS  HSG      M               White   \n",
      "1  0.048544  0.411111   0.0      Priv      NM   SC      F               White   \n",
      "2  0.043689  0.433333   0.0      Priv     MCS  HSG      M               White   \n",
      "3  0.058252  0.311111   0.0      LGov     MCS   AA      M  Asian-Pac-Islander   \n",
      "4  0.058252  0.533333   0.0      Priv     MCS   AA      M               White   \n",
      "\n",
      "       prod gtype  money  \n",
      "0  0.024510    AC  <=50K  \n",
      "1  0.000135    DC  <=50K  \n",
      "2  0.000210    AC  <=50K  \n",
      "3  0.000285    AC   >50K  \n",
      "4  0.000385    AC  <=50K  \n"
     ]
    }
   ],
   "source": [
    "# Citește datele\n",
    "X_train = read_csv(train_file)\n",
    "X_test = read_csv(test_file)\n",
    "\n",
    "# Imupută valorile lipsă\n",
    "X_train = impute_missing_values(X_train, method='SimpleImputer')\n",
    "X_test = impute_missing_values(X_test, method='SimpleImputer')\n",
    "\n",
    "# Normalizează datele folosind MinMaxScaler\n",
    "X_train, X_test = normalize_data(X_test, X_train, 'MinMaxScaler')\n",
    "print(X_train.head())"
   ]
  },
  {
   "cell_type": "code",
   "execution_count": 26,
   "metadata": {},
   "outputs": [
    {
     "name": "stdout",
     "output_type": "stream",
     "text": [
      "        fnl  hpw relation    gain        country               job  edu_int  \\\n",
      "0  1.938168 -2.0        H  2414.0  United-States                 ?    -0.25   \n",
      "1 -0.649906  0.0    Other     0.0  United-States      Tech-support     0.00   \n",
      "2  0.048800  0.0        H     0.0  United-States   Exec-managerial    -0.25   \n",
      "3  1.352357  0.0        H     0.0           Hong   Protective-serv     0.50   \n",
      "4 -0.691205  1.0        H     0.0  United-States  Transport-moving     0.50   \n",
      "\n",
      "      years  loss work_type partner  edu gender                race  \\\n",
      "0  1.382716   0.0         ?     MCS  HSG      M               White   \n",
      "1  0.000000   0.0      Priv      NM   SC      F               White   \n",
      "2  0.098765   0.0      Priv     MCS  HSG      M               White   \n",
      "3 -0.444444   0.0      LGov     MCS   AA      M  Asian-Pac-Islander   \n",
      "4  0.543210   0.0      Priv     MCS   AA      M               White   \n",
      "\n",
      "         prod gtype  money  \n",
      "0  133.737931    AC  <=50K  \n",
      "1   -0.827586    DC  <=50K  \n",
      "2   -0.413793    AC  <=50K  \n",
      "3    0.000000    AC   >50K  \n",
      "4    0.551724    AC  <=50K  \n"
     ]
    }
   ],
   "source": [
    "# Citește datele\n",
    "X_train = read_csv(train_file)\n",
    "X_test = read_csv(test_file)\n",
    "\n",
    "# Imupută valorile lipsă\n",
    "X_train = impute_missing_values(X_train, method='SimpleImputer')\n",
    "X_test = impute_missing_values(X_test, method='SimpleImputer')\n",
    "\n",
    "# Normalizează datele folosind RobustScaler\n",
    "X_train, X_test = normalize_data(X_test, X_train, 'RobustScaler')\n",
    "print(X_train.head())"
   ]
  },
  {
   "cell_type": "markdown",
   "metadata": {},
   "source": [
    "## 3. Utilizarea algoritmilor de Învățare Automată"
   ]
  },
  {
   "cell_type": "markdown",
   "metadata": {},
   "source": [
    "### Regresie Logistică"
   ]
  },
  {
   "cell_type": "markdown",
   "metadata": {},
   "source": [
    "#### Implementare manuală"
   ]
  },
  {
   "cell_type": "code",
   "execution_count": 340,
   "metadata": {},
   "outputs": [],
   "source": [
    "from numpy import log\n",
    "from numpy import round\n",
    "\n",
    "def split_dataset(X, T, train=.8):\n",
    "    N = X.shape[0]\n",
    "    N_train = int(round(N * train))\n",
    "    N_test = N - N_train\n",
    "\n",
    "    X_train, X_test = X[:N_train,:], X[N_train:,:]\n",
    "    T_train, T_test = T[:N_train], T[N_train:]\n",
    "    return X_train, T_train, X_test, T_test\n",
    "\n",
    "\n",
    "# Functia de sigmoida logistica\n",
    "def logistic(x):\n",
    "    return 1 / (1 + np.exp(-x))\n",
    "\n",
    "def nll(Y, T):\n",
    "    # Expresia functiei de Negative Log Likelihood\n",
    "    return -np.transpose(T) @ log(Y) - (1 - np.transpose(T)) @ log(1 - Y)\n",
    "\n",
    "# Expresia care intoarce acuratetea clasificarii\n",
    "def accuracy(Y, T):\n",
    "    return sum(round(Y) == T) / len(Y)\n",
    "\n",
    "def predict_logistic(X, w):\n",
    "    # Predictia Y a modelului logistic antrenat (ponderile w invatate)\n",
    "    return logistic(X @ w)\n",
    "\n",
    "def train_and_eval_logistic(X_train, T_train, X_test, T_test, lr=.01, epochs_no=100):\n",
    "    # Antrenăm modelul\n",
    "    (N, D) = X_train.shape\n",
    "    \n",
    "    # Initializare ponderi\n",
    "    w = np.random.randn(D)\n",
    "    \n",
    "    train_acc, test_acc = [], []\n",
    "    train_nll, test_nll = [], []\n",
    "\n",
    "    for epoch in range(epochs_no):\n",
    "        # 1. Obtinem Y_train si Y_test folosind functia predict_logistic\n",
    "        Y_train = predict_logistic(X_train, w)\n",
    "        Y_test = predict_logistic(X_test, w)\n",
    "        # 2. Adaugăm acuratetea si negative log likelihood-ul pentru setul de antrenare si de testare \n",
    "        #    la fiecare pas\n",
    "        train_acc.append(accuracy(Y_train, T_train))\n",
    "        train_nll.append(nll(Y_train, T_train))\n",
    "        test_acc.append(accuracy(Y_test, T_test))\n",
    "        test_nll.append(nll(Y_test, T_test))\n",
    "        # 3. Actualizăm ponderile w folosind regula de actualizare a gradientului\n",
    "        w = w - lr * 1 / N * np.transpose(X_train) @ (Y_train - T_train)        \n",
    "\n",
    "    return w, train_nll, test_nll, train_acc, test_acc"
   ]
  },
  {
   "cell_type": "code",
   "execution_count": 117,
   "metadata": {},
   "outputs": [],
   "source": [
    "def plot_evolution(train_acc, test_acc, train_nll, test_nll):\n",
    "    epochs_no = len(train_acc)\n",
    "    fig, (ax1, ax2) = plt.subplots(2,1)\n",
    "\n",
    "    # Afisam cu verde acuratetea pe setul de antrenare si cu rosu acuratetea pe setul de testare\n",
    "    ax1.plot(range(epochs_no), train_acc, label=\"Train Accuracy\", color=\"green\")\n",
    "    ax1.plot(range(epochs_no), test_acc, label=\"Test Accuracy\", color=\"red\")\n",
    "    ax1.set_ylabel(\"Accuracy\")\n",
    "    ax1.legend(loc='lower right', ncol=1)\n",
    "\n",
    "    # Afisam cu verde NLL pe setul de antrenare si cu rosu NLL pe setul de testare\n",
    "    ax2.plot(range(epochs_no), train_nll, label=\"Train NLL\", color=\"green\")\n",
    "    ax2.plot(range(epochs_no), test_nll, label=\"Test NLL\", color=\"red\")\n",
    "    ax2.set_xlabel(\"iteration\")\n",
    "    ax2.set_ylabel(\"NLL\")\n",
    "    ax2.legend(loc='upper right', ncol=1)\n",
    "    \n",
    "    plt.show()"
   ]
  },
  {
   "cell_type": "code",
   "execution_count": 295,
   "metadata": {},
   "outputs": [],
   "source": [
    "from sklearn.preprocessing import LabelEncoder, OneHotEncoder\n",
    "from sklearn.compose import ColumnTransformer\n",
    "\n",
    "def categorical_to_numeric(df):\n",
    "    \"\"\"\n",
    "    Funcția transformă atributele categorice în atribute numerice.\n",
    "\n",
    "    :param df: DataFrame Pandas cu datele din fișierul CSV\n",
    "    \"\"\"\n",
    "    # Selectează coloanele categorice\n",
    "    categorical_columns = df.select_dtypes(include=['object', 'category']).columns\n",
    "    target_column = 'money'\n",
    "\n",
    "    # 3. Aplică LabelEncoder pe variabila țintă\n",
    "    label_encoder = LabelEncoder()\n",
    "    df[target_column] = label_encoder.fit_transform(df[target_column])\n",
    "\n",
    "    # 4. Aplică OneHotEncoder pe variabilele categorice\n",
    "    df_encoded = pd.get_dummies(df, dtype=float)\n",
    "\n",
    "    return df_encoded"
   ]
  },
  {
   "cell_type": "markdown",
   "metadata": {},
   "source": [
    "Antrenarea și utilizarea modelului"
   ]
  },
  {
   "cell_type": "code",
   "execution_count": 342,
   "metadata": {},
   "outputs": [],
   "source": [
    "def get_data(full_file, train_file, test_file):\n",
    "    # 0. Citire date din fisier\n",
    "    X_test = read_csv(test_file)\n",
    "    X_train = read_csv(train_file)\n",
    "    X = read_csv(full_file)\n",
    "\n",
    "    # 1. Imputăm valorile lipsă\n",
    "    X_test = impute_missing_values(X_test, method='SimpleImputer')\n",
    "    X_train = impute_missing_values(X_train, method='SimpleImputer')\n",
    "    X = impute_missing_values(X, method='SimpleImputer')\n",
    "\n",
    "    # 2. Eliminăm coloanele extreme\n",
    "    detect_and_exclude_outliers(X_test)\n",
    "    detect_and_exclude_outliers(X_train)\n",
    "    detect_and_exclude_outliers(X)\n",
    "    \n",
    "    X_test = impute_missing_values(X_test, method='SimpleImputer')\n",
    "    X_train = impute_missing_values(X_train, method='SimpleImputer')\n",
    "    X = impute_missing_values(X, method='SimpleImputer')\n",
    "\n",
    "    # 3. Eliminăm coloanele redundante\n",
    "    eliminate_redundant_atributes(X_test)\n",
    "    eliminate_redundant_atributes(X_train)\n",
    "    eliminate_redundant_atributes(X)\n",
    "\n",
    "    # 4. Normalizăm datele\n",
    "    X_test = normalize_data(X_test, 'StandardScaler')\n",
    "    X_train = normalize_data(X_train, 'StandardScaler')\n",
    "    X = normalize_data(X, 'StandardScaler')\n",
    "\n",
    "    # 5. Change categorical values to numerical\n",
    "    X_test = categorical_to_numeric(X_test)\n",
    "    X_train = categorical_to_numeric(X_train)\n",
    "    X = categorical_to_numeric(X)\n",
    "\n",
    "    X_train = X_train.reindex(columns=X_test.columns, fill_value=0)\n",
    "    X_test = X_test.reindex(columns=X_train.columns, fill_value=0)\n",
    "    X = X.reindex(columns=X_train.columns, fill_value=0)\n",
    "\n",
    "    # Scoatem T-ul\n",
    "    T_test = X_test['money']\n",
    "    T_train = X_train['money']\n",
    "    T = X['money']\n",
    "\n",
    "    T_test = T_test.values\n",
    "    T_train = T_train.values\n",
    "    T = T.values\n",
    "\n",
    "    # Eliminăm T din X\n",
    "    X_train = X_train.drop('money', axis=1)\n",
    "    X_test = X_test.drop('money', axis=1)\n",
    "    X = X.drop('money', axis=1)\n",
    "\n",
    "    X_test = X_test.values\n",
    "    X_train = X_train.values\n",
    "    X = X.values\n",
    "\n",
    "    return X, X_train, X_test, T, T_train, T_test"
   ]
  },
  {
   "cell_type": "code",
   "execution_count": 344,
   "metadata": {},
   "outputs": [
    {
     "name": "stdout",
     "output_type": "stream",
     "text": [
      "Acuratete finala pe setul initial - train: 0.8133516689586199, test: 0.811\n"
     ]
    }
   ],
   "source": [
    "N_EPOCHS = 500  #@param {type: \"slider\", default: 500, min: 100, max: 1000}\n",
    "N_POINTS = 100  #@param {type: \"slider\", default: 100, min: 50, max: 200}\n",
    "VARIANCE = 0.15  #@param {type: \"slider\", default: 0.15, min: 0.0, max: 0.5}\n",
    "\n",
    "# Obținem datele\n",
    "X, X_train, X_test, T, T_train, T_test = get_data(full_file, train_file, test_file)\n",
    "\n",
    "# Antrenăm modelul\n",
    "w, train_nll, test_nll, train_acc, test_acc = train_and_eval_logistic(X_train, T_train, X_test, T_test, lr=0.1, epochs_no=N_EPOCHS)\n",
    "\n",
    "# Evaluarea modelului\n",
    "Y = predict_logistic(X, w)\n",
    "\n",
    "print(f\"Acuratete finala pe setul initial - train: {train_acc[-1]}, test: {test_acc[-1]}\")"
   ]
  },
  {
   "cell_type": "code",
   "execution_count": 345,
   "metadata": {},
   "outputs": [
    {
     "data": {
      "image/png": "[encoded data removed]",
      "text/plain": [
       "<Figure size 640x480 with 2 Axes>"
      ]
     },
     "metadata": {},
     "output_type": "display_data"
    }
   ],
   "source": [
    "plot_evolution(train_acc, test_acc, train_nll, test_nll)"
   ]
  },
  {
   "cell_type": "markdown",
   "metadata": {},
   "source": [
    "#### Implementare folosind biblioteca scikit-learn"
   ]
  },
  {
   "cell_type": "code",
   "execution_count": 346,
   "metadata": {},
   "outputs": [
    {
     "name": "stdout",
     "output_type": "stream",
     "text": [
      "Accuracy: 0.832\n"
     ]
    }
   ],
   "source": [
    "from sklearn.linear_model import LogisticRegression\n",
    "from sklearn.metrics import accuracy_score\n",
    "\n",
    "# Pregătirea datelor\n",
    "X, X_train, X_test, T, T_train, T_test = get_data(full_file, train_file, test_file)\n",
    "\n",
    "# Definirea modelului\n",
    "model = LogisticRegression()\n",
    "\n",
    "# Antrenarea modelului\n",
    "model.fit(X_train, T_train)\n",
    "\n",
    "# Evaluarea modelului\n",
    "T_pred = model.predict(X_test)\n",
    "accuracy = accuracy_score(T_test, T_pred)\n",
    "print(\"Accuracy:\", accuracy)"
   ]
  },
  {
   "cell_type": "markdown",
   "metadata": {},
   "source": [
    "### Multi-Layered Perceptron (MLP)"
   ]
  },
  {
   "cell_type": "markdown",
   "metadata": {},
   "source": [
    "#### Implementare manuală"
   ]
  },
  {
   "cell_type": "code",
   "execution_count": null,
   "metadata": {},
   "outputs": [],
   "source": []
  },
  {
   "cell_type": "markdown",
   "metadata": {},
   "source": [
    "#### Implementare folosind biblioteca sckit-learn"
   ]
  },
  {
   "cell_type": "code",
   "execution_count": 347,
   "metadata": {},
   "outputs": [
    {
     "name": "stdout",
     "output_type": "stream",
     "text": [
      "Accuracy: 0.8095\n"
     ]
    }
   ],
   "source": [
    "from sklearn.neural_network import MLPClassifier\n",
    "from sklearn.metrics import accuracy_score\n",
    "\n",
    "# Pregătirea datelor\n",
    "X, X_train, X_test, T, T_train, T_test = get_data(full_file, train_file, test_file)\n",
    "\n",
    "# Pregătire model\n",
    "model = MLPClassifier(hidden_layer_sizes=(100,), max_iter=1000)\n",
    "\n",
    "# Antrenarea modelului\n",
    "model.fit(X_train, T_train)\n",
    "\n",
    "# Paso 6: Evaluarea modelului\n",
    "T_pred = model.predict(X_test)\n",
    "accuracy = accuracy_score(T_test, T_pred)\n",
    "print(\"Accuracy:\", accuracy)"
   ]
  },
  {
   "cell_type": "markdown",
   "metadata": {},
   "source": [
    "## Evaluarea algoritmilor"
   ]
  },
  {
   "cell_type": "code",
   "execution_count": 27,
   "metadata": {},
   "outputs": [],
   "source": [
    "# Citirea datelor\n",
    "\n",
    "# Preprocesarea datelor\n",
    "\n",
    "# Utilizarea unui model de regresie pentru a prezice salariul\n",
    "\n",
    "# Utilizarea unui model MLP pentru a prezice salariul"
   ]
  }
 ],
 "metadata": {
  "kernelspec": {
   "display_name": "Python 3",
   "language": "python",
   "name": "python3"
  },
  "language_info": {
   "codemirror_mode": {
    "name": "ipython",
    "version": 3
   },
   "file_extension": ".py",
   "mimetype": "text/x-python",
   "name": "python",
   "nbconvert_exporter": "python",
   "pygments_lexer": "ipython3",
   "version": "3.12.3"
  }
 },
 "nbformat": 4,
 "nbformat_minor": 2
}
