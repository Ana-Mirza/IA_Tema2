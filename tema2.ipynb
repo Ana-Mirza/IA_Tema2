{
 "cells": [
  {
   "cell_type": "markdown",
   "metadata": {},
   "source": [
    "# Tema 2 - ML aplicat"
   ]
  },
  {
   "cell_type": "markdown",
   "metadata": {},
   "source": [
    "## 1. Explorarea datelor"
   ]
  },
  {
   "cell_type": "code",
   "execution_count": 3,
   "metadata": {},
   "outputs": [
    {
     "name": "stdout",
     "output_type": "stream",
     "text": [
      "Defaulting to user installation because normal site-packages is not writeable\n",
      "Requirement already satisfied: numpy in c:\\users\\anami\\appdata\\local\\packages\\pythonsoftwarefoundation.python.3.12_qbz5n2kfra8p0\\localcache\\local-packages\\python312\\site-packages (1.26.4)\n",
      "Note: you may need to restart the kernel to use updated packages.\n",
      "Defaulting to user installation because normal site-packages is not writeable\n",
      "Requirement already satisfied: matplotlib in c:\\users\\anami\\appdata\\local\\packages\\pythonsoftwarefoundation.python.3.12_qbz5n2kfra8p0\\localcache\\local-packages\\python312\\site-packages (3.8.4)\n",
      "Requirement already satisfied: contourpy>=1.0.1 in c:\\users\\anami\\appdata\\local\\packages\\pythonsoftwarefoundation.python.3.12_qbz5n2kfra8p0\\localcache\\local-packages\\python312\\site-packages (from matplotlib) (1.2.1)\n",
      "Requirement already satisfied: cycler>=0.10 in c:\\users\\anami\\appdata\\local\\packages\\pythonsoftwarefoundation.python.3.12_qbz5n2kfra8p0\\localcache\\local-packages\\python312\\site-packages (from matplotlib) (0.12.1)\n",
      "Requirement already satisfied: fonttools>=4.22.0 in c:\\users\\anami\\appdata\\local\\packages\\pythonsoftwarefoundation.python.3.12_qbz5n2kfra8p0\\localcache\\local-packages\\python312\\site-packages (from matplotlib) (4.51.0)\n",
      "Requirement already satisfied: kiwisolver>=1.3.1 in c:\\users\\anami\\appdata\\local\\packages\\pythonsoftwarefoundation.python.3.12_qbz5n2kfra8p0\\localcache\\local-packages\\python312\\site-packages (from matplotlib) (1.4.5)\n",
      "Requirement already satisfied: numpy>=1.21 in c:\\users\\anami\\appdata\\local\\packages\\pythonsoftwarefoundation.python.3.12_qbz5n2kfra8p0\\localcache\\local-packages\\python312\\site-packages (from matplotlib) (1.26.4)\n",
      "Requirement already satisfied: packaging>=20.0 in c:\\users\\anami\\appdata\\local\\packages\\pythonsoftwarefoundation.python.3.12_qbz5n2kfra8p0\\localcache\\local-packages\\python312\\site-packages (from matplotlib) (24.0)\n",
      "Requirement already satisfied: pillow>=8 in c:\\users\\anami\\appdata\\local\\packages\\pythonsoftwarefoundation.python.3.12_qbz5n2kfra8p0\\localcache\\local-packages\\python312\\site-packages (from matplotlib) (10.3.0)\n",
      "Requirement already satisfied: pyparsing>=2.3.1 in c:\\users\\anami\\appdata\\local\\packages\\pythonsoftwarefoundation.python.3.12_qbz5n2kfra8p0\\localcache\\local-packages\\python312\\site-packages (from matplotlib) (3.1.2)\n",
      "Requirement already satisfied: python-dateutil>=2.7 in c:\\users\\anami\\appdata\\local\\packages\\pythonsoftwarefoundation.python.3.12_qbz5n2kfra8p0\\localcache\\local-packages\\python312\\site-packages (from matplotlib) (2.9.0.post0)\n",
      "Requirement already satisfied: six>=1.5 in c:\\users\\anami\\appdata\\local\\packages\\pythonsoftwarefoundation.python.3.12_qbz5n2kfra8p0\\localcache\\local-packages\\python312\\site-packages (from python-dateutil>=2.7->matplotlib) (1.16.0)\n",
      "Note: you may need to restart the kernel to use updated packages.\n",
      "Defaulting to user installation because normal site-packages is not writeable\n",
      "Requirement already satisfied: pandas in c:\\users\\anami\\appdata\\local\\packages\\pythonsoftwarefoundation.python.3.12_qbz5n2kfra8p0\\localcache\\local-packages\\python312\\site-packages (2.2.2)\n",
      "Requirement already satisfied: numpy>=1.26.0 in c:\\users\\anami\\appdata\\local\\packages\\pythonsoftwarefoundation.python.3.12_qbz5n2kfra8p0\\localcache\\local-packages\\python312\\site-packages (from pandas) (1.26.4)\n",
      "Requirement already satisfied: python-dateutil>=2.8.2 in c:\\users\\anami\\appdata\\local\\packages\\pythonsoftwarefoundation.python.3.12_qbz5n2kfra8p0\\localcache\\local-packages\\python312\\site-packages (from pandas) (2.9.0.post0)\n",
      "Requirement already satisfied: pytz>=2020.1 in c:\\users\\anami\\appdata\\local\\packages\\pythonsoftwarefoundation.python.3.12_qbz5n2kfra8p0\\localcache\\local-packages\\python312\\site-packages (from pandas) (2024.1)\n",
      "Requirement already satisfied: tzdata>=2022.7 in c:\\users\\anami\\appdata\\local\\packages\\pythonsoftwarefoundation.python.3.12_qbz5n2kfra8p0\\localcache\\local-packages\\python312\\site-packages (from pandas) (2024.1)\n",
      "Requirement already satisfied: six>=1.5 in c:\\users\\anami\\appdata\\local\\packages\\pythonsoftwarefoundation.python.3.12_qbz5n2kfra8p0\\localcache\\local-packages\\python312\\site-packages (from python-dateutil>=2.8.2->pandas) (1.16.0)\n",
      "Note: you may need to restart the kernel to use updated packages.\n"
     ]
    }
   ],
   "source": [
    "%pip install numpy\n",
    "%pip install matplotlib\n",
    "%pip install pandas"
   ]
  },
  {
   "cell_type": "code",
   "execution_count": 4,
   "metadata": {},
   "outputs": [],
   "source": [
    "import pandas as pd\n",
    "import numpy as np\n",
    "import matplotlib.pyplot as plt"
   ]
  },
  {
   "cell_type": "markdown",
   "metadata": {},
   "source": [
    "### Citirea datelor"
   ]
  },
  {
   "cell_type": "code",
   "execution_count": 5,
   "metadata": {},
   "outputs": [],
   "source": [
    "def read_csv(file_path):\n",
    "    \"\"\"\n",
    "    Funcția citește un fișier CSV și returnează un DataFrame Pandas\n",
    "    \"\"\"\n",
    "    try:\n",
    "        df = pd.read_csv(file_path)\n",
    "        return df\n",
    "    except FileNotFoundError:\n",
    "        print(f\"Fișierul '{file_path}' nu a fost găsit.\")\n",
    "    except pd.errors.EmptyDataError:\n",
    "        print(f\"Fișierul '{file_path}' este gol.\")\n",
    "    except pd.errors.ParserError:\n",
    "        print(f\"A existat o eroare la parsarea fișierului '{file_path}'.\")\n",
    "    except Exception as e:\n",
    "        print(f\"A apărut o eroare: {e}\")"
   ]
  },
  {
   "cell_type": "code",
   "execution_count": 352,
   "metadata": {},
   "outputs": [],
   "source": [
    "full_file = './tema2_SalaryPrediction/SalaryPrediction_full.csv'\n",
    "train_file = './tema2_SalaryPrediction/SalaryPrediction_train.csv'\n",
    "test_file = './tema2_SalaryPrediction/SalaryPrediction_test.csv'\n",
    "\n",
    "full_file_avc = './tema2_AVC/AVC_full.csv'\n",
    "train_file_avc = './tema2_AVC/AVC_train.csv'\n",
    "test_file_avc = './tema2_AVC/AVC_test.csv'"
   ]
  },
  {
   "cell_type": "markdown",
   "metadata": {},
   "source": [
    "### Analiza atributelor numerice"
   ]
  },
  {
   "cell_type": "code",
   "execution_count": 7,
   "metadata": {},
   "outputs": [],
   "source": [
    "def generate_numerical_atributes_statistic(df):\n",
    "    \"\"\"\n",
    "    Funcția extrage statistici pentru atributele numerice continue și generează grafice Boxplot.\n",
    "\n",
    "    :param df: DataFrame Pandas cu datele din fișierul CSV\n",
    "    \"\"\"\n",
    "\n",
    "    # Afișează statisticile\n",
    "    stats = df.describe(percentiles=[.25, .5, .75], include=[np.number])\n",
    "    print(\"Statistici pentru atributele numerice continue:\\n\")\n",
    "    print(stats, '\\n')\n",
    "\n",
    "    # Generează grafice Boxplot\n",
    "    plt.figure(figsize=(10, 8))\n",
    "    df.boxplot()\n",
    "    plt.title('Boxplot pentru atributele numerice continue')\n",
    "    plt.xticks(rotation=90)\n",
    "    plt.show()"
   ]
  },
  {
   "cell_type": "code",
   "execution_count": 355,
   "metadata": {},
   "outputs": [
    {
     "name": "stdout",
     "output_type": "stream",
     "text": [
      "Statistici pentru atributele numerice continue:\n",
      "\n",
      "       mean_blood_sugar_level  cardiovascular_issues  body_mass_indicator  \\\n",
      "count             5110.000000            5110.000000          4909.000000   \n",
      "mean               106.147677               0.054012            28.893237   \n",
      "std                 45.283560               0.226063             7.854067   \n",
      "min                 55.120000               0.000000            10.300000   \n",
      "25%                 77.245000               0.000000            23.500000   \n",
      "50%                 91.885000               0.000000            28.100000   \n",
      "75%                114.090000               0.000000            33.100000   \n",
      "max                271.740000               1.000000            97.600000   \n",
      "\n",
      "       high_blood_pressure    years_old  chaotic_sleep  analysis_results  \\\n",
      "count          5110.000000  5110.000000    5110.000000       4599.000000   \n",
      "mean              0.097456    46.568665       0.054012        323.523446   \n",
      "std               0.296607    26.593912       0.226063        101.577442   \n",
      "min               0.000000     0.080000       0.000000        104.829714   \n",
      "25%               0.000000    26.000000       0.000000        254.646209   \n",
      "50%               0.000000    47.000000       0.000000        301.031628   \n",
      "75%               0.000000    63.750000       0.000000        362.822769   \n",
      "max               1.000000   134.000000       1.000000        756.807975   \n",
      "\n",
      "       biological_age_index  cerebrovascular_accident  \n",
      "count           5110.000000               5110.000000  \n",
      "mean             134.784256                  0.048728  \n",
      "std               50.399352                  0.215320  \n",
      "min              -15.109456                  0.000000  \n",
      "25%               96.710581                  0.000000  \n",
      "50%              136.374631                  0.000000  \n",
      "75%              172.507322                  0.000000  \n",
      "max              266.986321                  1.000000   \n",
      "\n"
     ]
    },
    {
     "data": {
      "image/png": "[encoded data removed]",
      "text/plain": [
       "<Figure size 1000x800 with 1 Axes>"
      ]
     },
     "metadata": {},
     "output_type": "display_data"
    }
   ],
   "source": [
    "# Extrage statistici și generează grafice Boxplot\n",
    "X = read_csv(full_file_avc)\n",
    "generate_numerical_atributes_statistic(X)"
   ]
  },
  {
   "cell_type": "markdown",
   "metadata": {},
   "source": [
    "### Analiza atributelor categorice sau ordinale"
   ]
  },
  {
   "cell_type": "code",
   "execution_count": 9,
   "metadata": {},
   "outputs": [],
   "source": [
    "def generate_discrete_atributes_statistics(df):\n",
    "    \"\"\"\n",
    "    Funcția extrage statistici pentru atributele discrete sau ordinale.\n",
    "\n",
    "    :param df: DataFrame Pandas cu datele din fișierul CSV\n",
    "    \"\"\"\n",
    "\n",
    "    # Afișează statisticile\n",
    "    print(\"Statistici pentru atributele discrete sau ordinale:\\n\")\n",
    "\n",
    "    # Selectează coloanele discrete sau ordinale\n",
    "    categorical_columns = df.select_dtypes(include=['object', 'category']).columns\n",
    "    stats_df = pd.DataFrame(columns=[\n",
    "        'Atribut', 'Număr de exemple (fără valori lipsă)', 'Număr de valori unice'\n",
    "    ])\n",
    "\n",
    "    # Calculează statisticile pentru fiecare coloană discretă sau ordinală\n",
    "    stats_list = []\n",
    "    for col in categorical_columns:\n",
    "        col_data = df[col]\n",
    "        stats_list.append({\n",
    "            'Atribut': col,\n",
    "            'Număr de exemple (fără valori lipsă)': col_data.count(),\n",
    "            'Număr de valori unice': col_data.nunique()\n",
    "        })\n",
    "\n",
    "    # Convertește lista de statistici într-un DataFrame\n",
    "    stats_df = pd.DataFrame(stats_list)\n",
    "    \n",
    "    print(stats_df, \"\\n\")\n",
    "\n",
    "\n",
    "    #################### Varianta 2 ######################\n",
    "    stats = df.describe(include=['O', 'category'])\n",
    "    stats = stats.loc[['count', 'unique']]\n",
    "    # print(stats, '\\n')\n",
    "\n",
    "    # Afișează histogramă\n",
    "    for col in categorical_columns:\n",
    "        # Obține seria de frecvență a valorilor unice\n",
    "        col_value_counts = df[col].value_counts()\n",
    "        # Crează o histogrmă cu frecvențele valorilor unice\n",
    "        col_value_counts.hist()\n",
    "    "
   ]
  },
  {
   "cell_type": "code",
   "execution_count": 367,
   "metadata": {},
   "outputs": [
    {
     "name": "stdout",
     "output_type": "stream",
     "text": [
      "Statistici pentru atributele discrete sau ordinale:\n",
      "\n",
      "         Atribut  Număr de exemple (fără valori lipsă)  Număr de valori unice\n",
      "0   job_category                                  5110                      5\n",
      "1            sex                                  5110                      2\n",
      "2  tobacco_usage                                  5110                      4\n",
      "3        married                                  4599                      2\n",
      "4    living_area                                  5110                      2 \n",
      "\n"
     ]
    },
    {
     "data": {
      "image/png": "[encoded data removed]",
      "text/plain": [
       "<Figure size 640x480 with 1 Axes>"
      ]
     },
     "metadata": {},
     "output_type": "display_data"
    }
   ],
   "source": [
    "# Testează funcția de generare de statistici\n",
    "X = read_csv(full_file_avc)\n",
    "generate_discrete_atributes_statistics(X)"
   ]
  },
  {
   "cell_type": "markdown",
   "metadata": {},
   "source": [
    "### Analiza corelației între atribute"
   ]
  },
  {
   "cell_type": "code",
   "execution_count": 358,
   "metadata": {},
   "outputs": [],
   "source": [
    "def numerical_atributes_corelation_analysis(X, display: bool = False):\n",
    "    \"\"\"\n",
    "    Funcția analizează corelația între atributele numerice utilizând criteriul Pearson și\n",
    "    afișează matricea de corelație utilizând matshow.\n",
    "\n",
    "    :param X: DataFrame Pandas cu datele din fișierul CSV\n",
    "    \"\"\"\n",
    "    # Selectează doar atributele numerice\n",
    "    numerical_columns = X.select_dtypes(include=[np.number]).columns\n",
    "    X = X[numerical_columns]\n",
    "\n",
    "    # Calculează matricea de corelație\n",
    "    corr_matrix = X.corr()\n",
    "\n",
    "    if display == True:\n",
    "        print(\"Matricea de corelație pentru atributele numerice:\")\n",
    "        print(corr_matrix, \"\\n\")\n",
    "        \n",
    "        # Vizualizează matricea de corelație\n",
    "        fig = plt.figure(figsize=(10, 10))\n",
    "        ax = fig.add_subplot(111)\n",
    "        cax = ax.matshow(corr_matrix, vmin=-1, vmax=1)\n",
    "        fig.colorbar(cax)\n",
    "        ticks = np.arange(0, len(X.columns), 1)\n",
    "        ax.set_xticks(ticks)\n",
    "        ax.set_yticks(ticks)\n",
    "        ax.set_xticklabels(X.columns)\n",
    "        ax.set_yticklabels(X.columns)\n",
    "        plt.show()\n",
    "\n",
    "    return corr_matrix\n",
    "\n",
    "# Printează matricea de corelație pentru atributele numerice\n",
    "def print_corr_matrix(corr_matrix):\n",
    "    \"\"\"\n",
    "    Funcția afișează matricea de corelație utilizând matshow.\n",
    "\n",
    "    :param corr_matrix: Matricea de corelație\n",
    "    \"\"\"\n",
    "    print(\"Matricea de corelație pentru atributele numerice:\")\n",
    "    print(corr_matrix, \"\\n\")\n",
    "    \n",
    "    # Vizualizează matricea de corelație\n",
    "    fig = plt.figure(figsize=(120, 10))\n",
    "    ax = fig.add_subplot(111)\n",
    "    cax = ax.matshow(corr_matrix, vmin=-1, vmax=1)\n",
    "    fig.colorbar(cax)\n",
    "    ticks = np.arange(0, len(X.columns), 1)\n",
    "    ax.set_xticks(ticks)\n",
    "    ax.set_yticks(ticks)\n",
    "    ax.set_xticklabels(X.columns)\n",
    "    ax.set_yticklabels(X.columns)\n",
    "    plt.show()"
   ]
  },
  {
   "cell_type": "code",
   "execution_count": 360,
   "metadata": {},
   "outputs": [
    {
     "name": "stdout",
     "output_type": "stream",
     "text": [
      "Matricea de corelație pentru atributele numerice:\n",
      "                          mean_blood_sugar_level  cardiovascular_issues  \\\n",
      "mean_blood_sugar_level                  1.000000               0.161857   \n",
      "cardiovascular_issues                   0.161857               1.000000   \n",
      "body_mass_indicator                     0.175502               0.041357   \n",
      "high_blood_pressure                     0.174474               0.108306   \n",
      "years_old                               0.193335               0.205277   \n",
      "chaotic_sleep                           0.161857               1.000000   \n",
      "analysis_results                        0.894289               0.155915   \n",
      "biological_age_index                    0.213950               0.231282   \n",
      "cerebrovascular_accident                0.131945               0.134914   \n",
      "\n",
      "                          body_mass_indicator  high_blood_pressure  years_old  \\\n",
      "mean_blood_sugar_level               0.175502             0.174474   0.193335   \n",
      "cardiovascular_issues                0.041357             0.108306   0.205277   \n",
      "body_mass_indicator                  1.000000             0.167811   0.269022   \n",
      "high_blood_pressure                  0.167811             1.000000   0.222777   \n",
      "years_old                            0.269022             0.222777   1.000000   \n",
      "chaotic_sleep                        0.041357             0.108306   0.205277   \n",
      "analysis_results                     0.157301             0.158460   0.189087   \n",
      "biological_age_index                 0.291308             0.248373   0.714135   \n",
      "cerebrovascular_accident             0.042374             0.127904   0.189598   \n",
      "\n",
      "                          chaotic_sleep  analysis_results  \\\n",
      "mean_blood_sugar_level         0.161857          0.894289   \n",
      "cardiovascular_issues          1.000000          0.155915   \n",
      "body_mass_indicator            0.041357          0.157301   \n",
      "high_blood_pressure            0.108306          0.158460   \n",
      "years_old                      0.205277          0.189087   \n",
      "chaotic_sleep                  1.000000          0.155915   \n",
      "analysis_results               0.155915          1.000000   \n",
      "biological_age_index           0.231282          0.206042   \n",
      "cerebrovascular_accident       0.134914          0.134222   \n",
      "\n",
      "                          biological_age_index  cerebrovascular_accident  \n",
      "mean_blood_sugar_level                0.213950                  0.131945  \n",
      "cardiovascular_issues                 0.231282                  0.134914  \n",
      "body_mass_indicator                   0.291308                  0.042374  \n",
      "high_blood_pressure                   0.248373                  0.127904  \n",
      "years_old                             0.714135                  0.189598  \n",
      "chaotic_sleep                         0.231282                  0.134914  \n",
      "analysis_results                      0.206042                  0.134222  \n",
      "biological_age_index                  1.000000                  0.222970  \n",
      "cerebrovascular_accident              0.222970                  1.000000   \n",
      "\n"
     ]
    },
    {
     "data": {
      "image/png": "[encoded data removed]",
      "text/plain": [
       "<Figure size 1000x1000 with 2 Axes>"
      ]
     },
     "metadata": {},
     "output_type": "display_data"
    }
   ],
   "source": [
    "# Analizează corelația între atributele numerice\n",
    "X = read_csv(full_file_avc)\n",
    "corr_matrix = numerical_atributes_corelation_analysis(X, display=True)"
   ]
  },
  {
   "cell_type": "code",
   "execution_count": 368,
   "metadata": {},
   "outputs": [],
   "source": [
    "from scipy.stats import chi2_contingency\n",
    "\n",
    "def category_atributes_corelation_analysis(X, display: bool = False):\n",
    "    \"\"\"\n",
    "    Funcția analizează corelația între atributele categorice utilizând testul Chi-Pătrat.\n",
    "\n",
    "    :param X: DataFrame Pandas cu datele din fișierul CSV\n",
    "    \"\"\"\n",
    "    # Selectează coloanele categorice\n",
    "    categorical_columns = X.select_dtypes(include=['object', 'category']).columns\n",
    "\n",
    "    # Setează nivelul de semnificație\n",
    "    alpha = 0.05\n",
    "\n",
    "    # Generează testele Chi-Pătrat pentru fiecare pereche de coloane categorice\n",
    "    chi2_results = []\n",
    "    to_drop = set()\n",
    "    for i, col1 in enumerate(categorical_columns):\n",
    "        for col2 in categorical_columns[i + 1:]:\n",
    "            CrosstabResult = pd.crosstab(X[col1], X[col2])\n",
    "            ChiSqResult = chi2_contingency(CrosstabResult)\n",
    "            chi2_results.append({\n",
    "                'Atribute': f\"{col1} vs {col2}\",\n",
    "                'p-value': ChiSqResult[1]\n",
    "            })\n",
    "            if ChiSqResult[1] < alpha:\n",
    "                to_drop.add(col2)\n",
    "\n",
    "    # Convertește rezultatele într-un DataFrame\n",
    "    chi2_X = pd.DataFrame(chi2_results)\n",
    "    \n",
    "    if display == True:\n",
    "        # Afișează rezultatele testului Chi-Pătrat\n",
    "        print(\"Rezultatele testului Chi-Pătrat pentru atributele categorice:\\n\")\n",
    "        print(chi2_X, \"\\n\")\n",
    "\n",
    "        print(\"Categoriile de eliminat sunt:\\n\")\n",
    "        print(to_drop, \"\\n\")\n",
    "\n",
    "    return chi2_X, to_drop"
   ]
  },
  {
   "cell_type": "code",
   "execution_count": 369,
   "metadata": {},
   "outputs": [
    {
     "name": "stdout",
     "output_type": "stream",
     "text": [
      "Rezultatele testului Chi-Pătrat pentru atributele categorice:\n",
      "\n",
      "                        Atribute        p-value\n",
      "0            job_category vs sex   1.480860e-08\n",
      "1  job_category vs tobacco_usage  3.103282e-290\n",
      "2        job_category vs married   0.000000e+00\n",
      "3    job_category vs living_area   3.247540e-01\n",
      "4           sex vs tobacco_usage   2.048248e-11\n",
      "5                 sex vs married   8.946837e-02\n",
      "6             sex vs living_area   6.709856e-01\n",
      "7       tobacco_usage vs married  9.372829e-116\n",
      "8   tobacco_usage vs living_area   1.446816e-01\n",
      "9         married vs living_area   9.875681e-01 \n",
      "\n",
      "Categoriile de eliminat sunt:\n",
      "\n",
      "{'sex', 'married', 'tobacco_usage'} \n",
      "\n"
     ]
    }
   ],
   "source": [
    "# Testează funcția de analiza a corelației atributelor\n",
    "X = read_csv(full_file_avc)\n",
    "chi2_x, to_drop = category_atributes_corelation_analysis(X, display=True)"
   ]
  },
  {
   "cell_type": "markdown",
   "metadata": {},
   "source": [
    "## 2.  Preprocesarea datelor"
   ]
  },
  {
   "cell_type": "markdown",
   "metadata": {},
   "source": [
    "### Date lipsă pentru un atribut într-un eșantion"
   ]
  },
  {
   "cell_type": "code",
   "execution_count": 370,
   "metadata": {},
   "outputs": [],
   "source": [
    "from sklearn.experimental import enable_iterative_imputer\n",
    "from sklearn.impute import SimpleImputer, IterativeImputer\n",
    "\n",
    "def impute_missing_values(X, method: str):\n",
    "    \"\"\"\n",
    "    Funcția completează valorile lipsă din DataFrame-ul dat.\n",
    "\n",
    "    :param X: DataFrame Pandas cu datele din fișierul CSV\n",
    "    :param method: Metoda de completare a valorilor lipsă (SimpleImputer, IterativeImputer)\n",
    "    \"\"\"\n",
    "    \n",
    "    # Verifică dacă metoda este validă\n",
    "    if method not in ['SimpleImputer', 'IterativeImputer']:\n",
    "        print(f\"Metoda '{method}' nu este validă.\")\n",
    "        return\n",
    "\n",
    "    # Copiază DataFrame-ul pentru a nu modifica originalul\n",
    "    filled_X = X.copy(deep=True)\n",
    "    numeric_columns = X.select_dtypes(include=[np.number]).columns\n",
    "    category_columns = X.select_dtypes(include=['object', 'category']).columns\n",
    "\n",
    "    # Completează valorile lipsă\n",
    "    if method == 'SimpleImputer':\n",
    "        # Selectează doar coloanele numerice\n",
    "\n",
    "        # Completează valorile lipsă cu media\n",
    "        imp = SimpleImputer(missing_values=np.nan, strategy='mean')\n",
    "        filled_X[numeric_columns] = imp.fit_transform(filled_X[numeric_columns])\n",
    "\n",
    "        # Completează valorile lipsă categorice cu valoarea cea mai frecventă\n",
    "        imp = SimpleImputer(strategy=\"most_frequent\")\n",
    "        filled_X[category_columns] = imp.fit_transform(filled_X[category_columns])\n",
    "\n",
    "        return filled_X\n",
    "    else:\n",
    "        # Completează valorile lipsă numerice folosind metoda IterativeImputer\n",
    "        imp = IterativeImputer(max_iter=10, random_state=0, missing_values=np.nan)\n",
    "        imp.fit(filled_X[numeric_columns])\n",
    "        filled_X[numeric_columns] = imp.transform(filled_X[numeric_columns])\n",
    "\n",
    "        # Completează valorile lipsă categorice cu valoarea cea mai frecventă\n",
    "        # imp = IterativeImputer(max_iter=10, random_state=0, initial_strategy=\"most_frequent\")\n",
    "        # imp.fit(filled_X[category_columns])\n",
    "        # filled_X[category_columns] = imp.transform(filled_X[category_columns])\n",
    "\n",
    "        return filled_X"
   ]
  },
  {
   "cell_type": "code",
   "execution_count": 371,
   "metadata": {},
   "outputs": [
    {
     "data": {
      "text/plain": [
       "mean_blood_sugar_level      5110.0\n",
       "cardiovascular_issues       5110.0\n",
       "body_mass_indicator         5110.0\n",
       "high_blood_pressure         5110.0\n",
       "years_old                   5110.0\n",
       "chaotic_sleep               5110.0\n",
       "analysis_results            5110.0\n",
       "biological_age_index        5110.0\n",
       "cerebrovascular_accident    5110.0\n",
       "Name: count, dtype: float64"
      ]
     },
     "execution_count": 371,
     "metadata": {},
     "output_type": "execute_result"
    }
   ],
   "source": [
    "# Completează valorile lipsă folosind SimpleImputer\n",
    "X = read_csv(full_file_avc)\n",
    "X_simple_filled = impute_missing_values(X, 'SimpleImputer')\n",
    "# print(filled_df)\n",
    "X_simple_filled.describe().loc['count']"
   ]
  },
  {
   "cell_type": "code",
   "execution_count": 372,
   "metadata": {},
   "outputs": [
    {
     "data": {
      "text/plain": [
       "mean_blood_sugar_level      5110.0\n",
       "cardiovascular_issues       5110.0\n",
       "body_mass_indicator         5110.0\n",
       "high_blood_pressure         5110.0\n",
       "years_old                   5110.0\n",
       "chaotic_sleep               5110.0\n",
       "analysis_results            5110.0\n",
       "biological_age_index        5110.0\n",
       "cerebrovascular_accident    5110.0\n",
       "Name: count, dtype: float64"
      ]
     },
     "execution_count": 372,
     "metadata": {},
     "output_type": "execute_result"
    }
   ],
   "source": [
    "# Completează valorile lipsă folosind IterativeImputer\n",
    "X = read_csv(full_file_avc)\n",
    "X_iterative_filled = impute_missing_values(X, 'IterativeImputer')\n",
    "# print(filled_X)\n",
    "X_iterative_filled.describe().loc['count']"
   ]
  },
  {
   "cell_type": "markdown",
   "metadata": {},
   "source": [
    "### Valori extreme pentru un atribut într-un eșantion"
   ]
  },
  {
   "cell_type": "code",
   "execution_count": 373,
   "metadata": {},
   "outputs": [],
   "source": [
    "def detect_and_exclude_outliers(X):\n",
    "    \"\"\"\n",
    "    Funcția detectează și elimină outlierii din DataFrame-ul dat.\n",
    "    \"\"\"\n",
    "    # Selectează doar atributele numerice\n",
    "    numerical_columns = X.select_dtypes(include=[np.number]).columns\n",
    "    threshold = 1.5\n",
    "\n",
    "    # Elimină outlierii\n",
    "    for col in numerical_columns:\n",
    "        Q1 = X[col].quantile(0.1)\n",
    "        Q3 = X[col].quantile(0.9)\n",
    "        IQR = Q3 - Q1\n",
    "        lower_bound = Q1 - threshold * IQR\n",
    "        upper_bound = Q3 + threshold * IQR\n",
    "\n",
    "        # Setați valorile care sunt în afara intervalului ca NaN\n",
    "        X[col] = X[col].mask((X[col] < lower_bound) | (X[col] > upper_bound))"
   ]
  },
  {
   "cell_type": "code",
   "execution_count": 374,
   "metadata": {},
   "outputs": [
    {
     "data": {
      "text/plain": [
       "mean_blood_sugar_level      5110.0\n",
       "cardiovascular_issues       4834.0\n",
       "body_mass_indicator         4905.0\n",
       "high_blood_pressure         4612.0\n",
       "years_old                   5110.0\n",
       "chaotic_sleep               4834.0\n",
       "analysis_results            4599.0\n",
       "biological_age_index        5110.0\n",
       "cerebrovascular_accident    4861.0\n",
       "Name: count, dtype: float64"
      ]
     },
     "execution_count": 374,
     "metadata": {},
     "output_type": "execute_result"
    }
   ],
   "source": [
    "# Elimină outlierii\n",
    "X = read_csv(full_file_avc)\n",
    "detect_and_exclude_outliers(X)\n",
    "X.describe().loc['count']"
   ]
  },
  {
   "cell_type": "code",
   "execution_count": 375,
   "metadata": {},
   "outputs": [
    {
     "data": {
      "text/plain": [
       "mean_blood_sugar_level      5110.0\n",
       "cardiovascular_issues       5110.0\n",
       "body_mass_indicator         5110.0\n",
       "high_blood_pressure         5110.0\n",
       "years_old                   5110.0\n",
       "chaotic_sleep               5110.0\n",
       "analysis_results            5110.0\n",
       "biological_age_index        5110.0\n",
       "cerebrovascular_accident    5110.0\n",
       "Name: count, dtype: float64"
      ]
     },
     "execution_count": 375,
     "metadata": {},
     "output_type": "execute_result"
    }
   ],
   "source": [
    "# Imputare valori lipsă\n",
    "X = read_csv(full_file_avc)\n",
    "X = impute_missing_values(X, 'IterativeImputer')\n",
    "X.describe().loc['count']"
   ]
  },
  {
   "cell_type": "markdown",
   "metadata": {},
   "source": [
    "### Atribute redundante (puternic corelate)"
   ]
  },
  {
   "cell_type": "code",
   "execution_count": 378,
   "metadata": {},
   "outputs": [],
   "source": [
    "def eliminate_redundant_atributes(X, display: bool = False):\n",
    "    \"\"\"\n",
    "    Funcția elimină atributele redundante din DataFrame-ul dat.\n",
    "    \"\"\"\n",
    "    # Obține matricea de corelație\n",
    "    corr_matrix = numerical_atributes_corelation_analysis(X).abs()\n",
    "\n",
    "    if display == True:\n",
    "        print(corr_matrix)\n",
    "\n",
    "    # Pragul pentru a considera corelația puternică\n",
    "    threshold = 0.8\n",
    "\n",
    "    # Identifică coloanele care sunt puternic corelate\n",
    "    # Selectează triunghiul superior al matricei de corelație\n",
    "    upper = corr_matrix.where(np.triu(np.ones(corr_matrix.shape), k=1).astype(bool))\n",
    "\n",
    "    # Găsește coloanele care au corelații puternice\n",
    "    to_drop = [column for column in upper.columns if any(upper[column] > threshold)]\n",
    "\n",
    "    # Elimină coloanele care sunt puternic corelate\n",
    "    X_reduced = X.drop(columns=to_drop)\n",
    "\n",
    "    if display == True:\n",
    "        print(\"\\nColoanele eliminate: \", to_drop)\n",
    "\n",
    "    # afisare coloane numerice\n",
    "    numerical_columns = X_reduced.select_dtypes(include=[np.number]).columns\n",
    "    if display == True:\n",
    "        print(\"\\nDataFrame-ul după eliminarea coloanelor puternic corelate:\\n\", X_reduced[numerical_columns].head())\n",
    "\n",
    "    # Elimină coloanele categorice puternic corelate\n",
    "    chi2_X, to_drop = category_atributes_corelation_analysis(X_reduced)\n",
    "\n",
    "    # Dacă majoritatea sunt corelate, nu eliminăm nicio coloană\n",
    "    if len(to_drop) < len(X_reduced.columns) / 3:\n",
    "        X_reduced = X.drop(columns=to_drop)\n",
    "\n",
    "    if display == True:\n",
    "        print(\"\\nDataFrame-ul după eliminarea coloanelor puternic corelate:\\n\", X_reduced)\n",
    "\n",
    "    X = X_reduced\n"
   ]
  },
  {
   "cell_type": "code",
   "execution_count": 379,
   "metadata": {},
   "outputs": [
    {
     "name": "stdout",
     "output_type": "stream",
     "text": [
      "                          mean_blood_sugar_level  cardiovascular_issues  \\\n",
      "mean_blood_sugar_level                  1.000000               0.161857   \n",
      "cardiovascular_issues                   0.161857               1.000000   \n",
      "body_mass_indicator                     0.175502               0.041357   \n",
      "high_blood_pressure                     0.174474               0.108306   \n",
      "years_old                               0.193335               0.205277   \n",
      "chaotic_sleep                           0.161857               1.000000   \n",
      "analysis_results                        0.894289               0.155915   \n",
      "biological_age_index                    0.213950               0.231282   \n",
      "cerebrovascular_accident                0.131945               0.134914   \n",
      "\n",
      "                          body_mass_indicator  high_blood_pressure  years_old  \\\n",
      "mean_blood_sugar_level               0.175502             0.174474   0.193335   \n",
      "cardiovascular_issues                0.041357             0.108306   0.205277   \n",
      "body_mass_indicator                  1.000000             0.167811   0.269022   \n",
      "high_blood_pressure                  0.167811             1.000000   0.222777   \n",
      "years_old                            0.269022             0.222777   1.000000   \n",
      "chaotic_sleep                        0.041357             0.108306   0.205277   \n",
      "analysis_results                     0.157301             0.158460   0.189087   \n",
      "biological_age_index                 0.291308             0.248373   0.714135   \n",
      "cerebrovascular_accident             0.042374             0.127904   0.189598   \n",
      "\n",
      "                          chaotic_sleep  analysis_results  \\\n",
      "mean_blood_sugar_level         0.161857          0.894289   \n",
      "cardiovascular_issues          1.000000          0.155915   \n",
      "body_mass_indicator            0.041357          0.157301   \n",
      "high_blood_pressure            0.108306          0.158460   \n",
      "years_old                      0.205277          0.189087   \n",
      "chaotic_sleep                  1.000000          0.155915   \n",
      "analysis_results               0.155915          1.000000   \n",
      "biological_age_index           0.231282          0.206042   \n",
      "cerebrovascular_accident       0.134914          0.134222   \n",
      "\n",
      "                          biological_age_index  cerebrovascular_accident  \n",
      "mean_blood_sugar_level                0.213950                  0.131945  \n",
      "cardiovascular_issues                 0.231282                  0.134914  \n",
      "body_mass_indicator                   0.291308                  0.042374  \n",
      "high_blood_pressure                   0.248373                  0.127904  \n",
      "years_old                             0.714135                  0.189598  \n",
      "chaotic_sleep                         0.231282                  0.134914  \n",
      "analysis_results                      0.206042                  0.134222  \n",
      "biological_age_index                  1.000000                  0.222970  \n",
      "cerebrovascular_accident              0.222970                  1.000000  \n",
      "\n",
      "Coloanele eliminate:  ['chaotic_sleep', 'analysis_results']\n",
      "\n",
      "DataFrame-ul după eliminarea coloanelor puternic corelate:\n",
      "    mean_blood_sugar_level  cardiovascular_issues  body_mass_indicator  \\\n",
      "0                  228.69                      1                 36.6   \n",
      "1                  202.21                      0                  NaN   \n",
      "2                  105.92                      1                 32.5   \n",
      "3                  171.23                      0                 34.4   \n",
      "4                  174.12                      0                 24.0   \n",
      "\n",
      "   high_blood_pressure  years_old  biological_age_index  \\\n",
      "0                    0       67.0            181.786614   \n",
      "1                    0       61.0            130.089915   \n",
      "2                    0       80.0            201.411374   \n",
      "3                    0       49.0            171.794024   \n",
      "4                    1       79.0            232.180890   \n",
      "\n",
      "   cerebrovascular_accident  \n",
      "0                         1  \n",
      "1                         1  \n",
      "2                         1  \n",
      "3                         1  \n",
      "4                         1  \n",
      "\n",
      "DataFrame-ul după eliminarea coloanelor puternic corelate:\n",
      "       mean_blood_sugar_level  cardiovascular_issues     job_category  \\\n",
      "0                     228.69                      1   private_sector   \n",
      "1                     202.21                      0  entrepreneurial   \n",
      "2                     105.92                      1   private_sector   \n",
      "3                     171.23                      0   private_sector   \n",
      "4                     174.12                      0  entrepreneurial   \n",
      "...                      ...                    ...              ...   \n",
      "5105                   83.75                      0   private_sector   \n",
      "5106                  125.20                      0  entrepreneurial   \n",
      "5107                   82.99                      0  entrepreneurial   \n",
      "5108                  166.29                      0   private_sector   \n",
      "5109                   85.28                      0    public_sector   \n",
      "\n",
      "      body_mass_indicator  high_blood_pressure  living_area  years_old  \\\n",
      "0                    36.6                    0         City       67.0   \n",
      "1                     NaN                    0  Countryside       61.0   \n",
      "2                    32.5                    0  Countryside       80.0   \n",
      "3                    34.4                    0         City       49.0   \n",
      "4                    24.0                    1  Countryside       79.0   \n",
      "...                   ...                  ...          ...        ...   \n",
      "5105                  NaN                    1         City       80.0   \n",
      "5106                 40.0                    0         City       81.0   \n",
      "5107                 30.6                    0  Countryside       35.0   \n",
      "5108                 25.6                    0  Countryside       51.0   \n",
      "5109                 26.2                    0         City       44.0   \n",
      "\n",
      "      chaotic_sleep  analysis_results  biological_age_index  \\\n",
      "0                 1        503.662278            181.786614   \n",
      "1                 0        503.541654            130.089915   \n",
      "2                 1               NaN            201.411374   \n",
      "3                 0        411.618245            171.794024   \n",
      "4                 0        450.887478            232.180890   \n",
      "...             ...               ...                   ...   \n",
      "5105              0        233.665634            210.951111   \n",
      "5106              0        355.916883            197.017841   \n",
      "5107              0        271.816334            112.727975   \n",
      "5108              0        473.081465            189.289964   \n",
      "5109              0        264.313021            152.042510   \n",
      "\n",
      "      cerebrovascular_accident  \n",
      "0                            1  \n",
      "1                            1  \n",
      "2                            1  \n",
      "3                            1  \n",
      "4                            1  \n",
      "...                        ...  \n",
      "5105                         0  \n",
      "5106                         0  \n",
      "5107                         0  \n",
      "5108                         0  \n",
      "5109                         0  \n",
      "\n",
      "[5110 rows x 11 columns]\n"
     ]
    }
   ],
   "source": [
    "# Testare eliminare atribute redundante\n",
    "X = read_csv(full_file_avc)\n",
    "X = eliminate_redundant_atributes(X, display=True)"
   ]
  },
  {
   "cell_type": "markdown",
   "metadata": {},
   "source": [
    "### Standardizarea datelor"
   ]
  },
  {
   "cell_type": "code",
   "execution_count": 388,
   "metadata": {},
   "outputs": [],
   "source": [
    "from sklearn import preprocessing\n",
    "from sklearn.preprocessing import StandardScaler\n",
    "from sklearn.preprocessing import MinMaxScaler\n",
    "from sklearn.preprocessing import RobustScaler\n",
    "\n",
    "def normalize_data(X, method: str):\n",
    "    \"\"\"\n",
    "    Funcția normalizează datele din DataFrame-ul dat.\n",
    "\n",
    "    :param X: DataFrame Pandas cu datele din fișierul CSV\n",
    "    :param method: Metoda de normalizare a datelor (StandardScaler, MinMaxScaler, RobustScaler)   \n",
    "    \"\"\"\n",
    "    # Selectează doar atributele numerice\n",
    "    numerical_columns = X.select_dtypes(include=[np.number]).columns\n",
    "\n",
    "    # Normalizează datele\n",
    "    if method == 'StandardScaler':\n",
    "        scaler = preprocessing.StandardScaler().fit(X[numerical_columns])\n",
    "        scaler.mean_\n",
    "        scaler.scale_\n",
    "\n",
    "        X_minmax = X\n",
    "        X_minmax[numerical_columns] = scaler.transform(X[numerical_columns])\n",
    "\n",
    "        return X_minmax\n",
    "\n",
    "    elif method == 'MinMaxScaler':\n",
    "        max_abs_scaler = preprocessing.MaxAbsScaler()\n",
    "        X_maxabs = X\n",
    "        X_maxabs[numerical_columns] = max_abs_scaler.fit_transform(X[numerical_columns])\n",
    "\n",
    "        return X_maxabs\n",
    "\n",
    "    elif method == 'RobustScaler':\n",
    "        robust_scaler = preprocessing.RobustScaler()\n",
    "        X_robust = X\n",
    "        X_robust[numerical_columns] = robust_scaler.fit_transform(X[numerical_columns])\n",
    "\n",
    "        return X_robust\n",
    "        "
   ]
  },
  {
   "cell_type": "code",
   "execution_count": 383,
   "metadata": {},
   "outputs": [
    {
     "name": "stdout",
     "output_type": "stream",
     "text": [
      "   mean_blood_sugar_level  cardiovascular_issues     job_category  \\\n",
      "0                2.706375               4.185032   private_sector   \n",
      "1                2.121559              -0.238947  entrepreneurial   \n",
      "2               -0.005028               4.185032   private_sector   \n",
      "3                1.437358              -0.238947   private_sector   \n",
      "4                1.501184              -0.238947  entrepreneurial   \n",
      "\n",
      "   body_mass_indicator sex tobacco_usage  high_blood_pressure married  \\\n",
      "0             0.981345   M     ex-smoker            -0.328602       Y   \n",
      "1                  NaN   F    non-smoker            -0.328602       Y   \n",
      "2             0.459269   M    non-smoker            -0.328602       Y   \n",
      "3             0.701207   F        smoker            -0.328602       Y   \n",
      "4            -0.623083   F    non-smoker             3.043196       Y   \n",
      "\n",
      "   living_area  years_old  chaotic_sleep  analysis_results  \\\n",
      "0         City   0.768346       4.185032          1.773607   \n",
      "1  Countryside   0.542709      -0.238947          1.772419   \n",
      "2  Countryside   1.257228       4.185032               NaN   \n",
      "3         City   0.091433      -0.238947          0.867362   \n",
      "4  Countryside   1.219622      -0.238947          1.253998   \n",
      "\n",
      "   biological_age_index  cerebrovascular_accident  \n",
      "0              0.932690                  4.418381  \n",
      "1             -0.093152                  4.418381  \n",
      "2              1.322113                  4.418381  \n",
      "3              0.734402                  4.418381  \n",
      "4              1.932687                  4.418381  \n"
     ]
    }
   ],
   "source": [
    "# Testare normalizare Standard\n",
    "X = read_csv(full_file_avc)\n",
    "X = normalize_data(X, method='StandardScaler')\n",
    "print(X.head())"
   ]
  },
  {
   "cell_type": "code",
   "execution_count": 389,
   "metadata": {},
   "outputs": [
    {
     "name": "stdout",
     "output_type": "stream",
     "text": [
      "   mean_blood_sugar_level  cardiovascular_issues     job_category  \\\n",
      "0                0.841577                    1.0   private_sector   \n",
      "1                0.744130                    0.0  entrepreneurial   \n",
      "2                0.389784                    1.0   private_sector   \n",
      "3                0.630124                    0.0   private_sector   \n",
      "4                0.640760                    0.0  entrepreneurial   \n",
      "\n",
      "   body_mass_indicator sex tobacco_usage  high_blood_pressure married  \\\n",
      "0             0.375000   M     ex-smoker                  0.0       Y   \n",
      "1                  NaN   F    non-smoker                  0.0       Y   \n",
      "2             0.332992   M    non-smoker                  0.0       Y   \n",
      "3             0.352459   F        smoker                  0.0       Y   \n",
      "4             0.245902   F    non-smoker                  1.0       Y   \n",
      "\n",
      "   living_area  years_old  chaotic_sleep  analysis_results  \\\n",
      "0         City   0.500000            1.0          0.665509   \n",
      "1  Countryside   0.455224            0.0          0.665349   \n",
      "2  Countryside   0.597015            1.0               NaN   \n",
      "3         City   0.365672            0.0          0.543887   \n",
      "4  Countryside   0.589552            0.0          0.595775   \n",
      "\n",
      "   biological_age_index  cerebrovascular_accident  \n",
      "0              0.680884                       1.0  \n",
      "1              0.487253                       1.0  \n",
      "2              0.754388                       1.0  \n",
      "3              0.643456                       1.0  \n",
      "4              0.869636                       1.0  \n"
     ]
    }
   ],
   "source": [
    "# Testare normalizare MinMaxScaler\n",
    "X = read_csv(full_file_avc)\n",
    "X = normalize_data(X, method='MinMaxScaler')\n",
    "print(X.head())"
   ]
  },
  {
   "cell_type": "code",
   "execution_count": 390,
   "metadata": {},
   "outputs": [
    {
     "name": "stdout",
     "output_type": "stream",
     "text": [
      "   mean_blood_sugar_level  cardiovascular_issues     job_category  \\\n",
      "0                3.712987                    1.0   private_sector   \n",
      "1                2.994300                    0.0  entrepreneurial   \n",
      "2                0.380920                    1.0   private_sector   \n",
      "3                2.153481                    0.0   private_sector   \n",
      "4                2.231917                    0.0  entrepreneurial   \n",
      "\n",
      "   body_mass_indicator sex tobacco_usage  high_blood_pressure married  \\\n",
      "0             0.885417   M     ex-smoker                  0.0       Y   \n",
      "1                  NaN   F    non-smoker                  0.0       Y   \n",
      "2             0.458333   M    non-smoker                  0.0       Y   \n",
      "3             0.656250   F        smoker                  0.0       Y   \n",
      "4            -0.427083   F    non-smoker                  1.0       Y   \n",
      "\n",
      "   living_area  years_old  chaotic_sleep  analysis_results  \\\n",
      "0         City   0.529801            1.0          1.873147   \n",
      "1  Countryside   0.370861            0.0          1.872032   \n",
      "2  Countryside   0.874172            1.0               NaN   \n",
      "3         City   0.052980            0.0          1.022279   \n",
      "4  Countryside   0.847682            0.0          1.385289   \n",
      "\n",
      "   biological_age_index  cerebrovascular_accident  \n",
      "0              0.599128                       1.0  \n",
      "1             -0.082915                       1.0  \n",
      "2              0.858041                       1.0  \n",
      "3              0.467294                       1.0  \n",
      "4              1.263989                       1.0  \n"
     ]
    }
   ],
   "source": [
    "# Testare normalizare RobustScaler\n",
    "X = read_csv(full_file_avc)\n",
    "X = normalize_data(X, method='RobustScaler')\n",
    "print(X.head())"
   ]
  },
  {
   "cell_type": "markdown",
   "metadata": {},
   "source": [
    "## 3. Utilizarea algoritmilor de Învățare Automată"
   ]
  },
  {
   "cell_type": "markdown",
   "metadata": {},
   "source": [
    "### Regresie Logistică"
   ]
  },
  {
   "cell_type": "markdown",
   "metadata": {},
   "source": [
    "#### Implementare manuală"
   ]
  },
  {
   "cell_type": "code",
   "execution_count": 400,
   "metadata": {},
   "outputs": [],
   "source": [
    "from numpy import log\n",
    "from numpy import round\n",
    "\n",
    "def split_dataset(X, T, train=.8):\n",
    "    N = X.shape[0]\n",
    "    N_train = int(round(N * train))\n",
    "    N_test = N - N_train\n",
    "\n",
    "    X_train, X_test = X[:N_train,:], X[N_train:,:]\n",
    "    T_train, T_test = T[:N_train], T[N_train:]\n",
    "    return X_train, T_train, X_test, T_test\n",
    "\n",
    "\n",
    "# Functia de sigmoida logistica\n",
    "def logistic(x):\n",
    "    return 1 / (1 + np.exp(-x))\n",
    "\n",
    "def nll(Y, T):\n",
    "    # Expresia functiei de Negative Log Likelihood\n",
    "    return -np.transpose(T) @ log(Y) - (1 - np.transpose(T)) @ log(1 - Y)\n",
    "\n",
    "# Expresia care intoarce acuratetea clasificarii\n",
    "def accuracy(Y, T):\n",
    "    return sum(round(Y) == T) / len(Y)\n",
    "\n",
    "def predict_logistic(X, w):\n",
    "    # Predictia Y a modelului logistic antrenat (ponderile w invatate)\n",
    "    return logistic(X @ w)\n",
    "\n",
    "def train_and_eval_logistic(X_train, T_train, X_test, T_test, lr=.01, epochs_no=100):\n",
    "    # Antrenăm modelul\n",
    "    (N, D) = X_train.shape\n",
    "    \n",
    "    # Initializare ponderi\n",
    "    w = np.random.randn(D)\n",
    "    \n",
    "    train_acc, test_acc = [], []\n",
    "    train_nll, test_nll = [], []\n",
    "\n",
    "    for epoch in range(epochs_no):\n",
    "        # 1. Obtinem Y_train si Y_test folosind functia predict_logistic\n",
    "        Y_train = predict_logistic(X_train, w)\n",
    "        Y_test = predict_logistic(X_test, w)\n",
    "        # 2. Adaugăm acuratetea si negative log likelihood-ul pentru setul de antrenare si de testare \n",
    "        #    la fiecare pas\n",
    "        train_acc.append(accuracy(Y_train, T_train))\n",
    "        train_nll.append(nll(Y_train, T_train))\n",
    "        test_acc.append(accuracy(Y_test, T_test))\n",
    "        test_nll.append(nll(Y_test, T_test))\n",
    "        # 3. Actualizăm ponderile w folosind regula de actualizare a gradientului\n",
    "        w = w - lr * 1 / N * np.transpose(X_train) @ (Y_train - T_train)        \n",
    "\n",
    "    return w, train_nll, test_nll, train_acc, test_acc"
   ]
  },
  {
   "cell_type": "code",
   "execution_count": 117,
   "metadata": {},
   "outputs": [],
   "source": [
    "def plot_evolution(train_acc, test_acc, train_nll, test_nll):\n",
    "    epochs_no = len(train_acc)\n",
    "    fig, (ax1, ax2) = plt.subplots(2,1)\n",
    "\n",
    "    # Afisam cu verde acuratetea pe setul de antrenare si cu rosu acuratetea pe setul de testare\n",
    "    ax1.plot(range(epochs_no), train_acc, label=\"Train Accuracy\", color=\"green\")\n",
    "    ax1.plot(range(epochs_no), test_acc, label=\"Test Accuracy\", color=\"red\")\n",
    "    ax1.set_ylabel(\"Accuracy\")\n",
    "    ax1.legend(loc='lower right', ncol=1)\n",
    "\n",
    "    # Afisam cu verde NLL pe setul de antrenare si cu rosu NLL pe setul de testare\n",
    "    ax2.plot(range(epochs_no), train_nll, label=\"Train NLL\", color=\"green\")\n",
    "    ax2.plot(range(epochs_no), test_nll, label=\"Test NLL\", color=\"red\")\n",
    "    ax2.set_xlabel(\"iteration\")\n",
    "    ax2.set_ylabel(\"NLL\")\n",
    "    ax2.legend(loc='upper right', ncol=1)\n",
    "    \n",
    "    plt.show()"
   ]
  },
  {
   "cell_type": "code",
   "execution_count": 408,
   "metadata": {},
   "outputs": [],
   "source": [
    "from sklearn.preprocessing import LabelEncoder, OneHotEncoder\n",
    "from sklearn.compose import ColumnTransformer\n",
    "\n",
    "def categorical_to_numeric(X, target_column):\n",
    "    \"\"\"\n",
    "    Funcția transformă atributele categorice în atribute numerice.\n",
    "\n",
    "    :param X: DataFrame Pandas cu datele din fișierul CSV\n",
    "    \"\"\"\n",
    "    # Selectează coloanele categorice\n",
    "    categorical_columns = X.select_dtypes(include=['object', 'category']).columns\n",
    "    # target_column = 'money'\n",
    "\n",
    "    # 3. Aplică LabelEncoder pe variabila țintă\n",
    "    label_encoder = LabelEncoder()\n",
    "    X[target_column] = label_encoder.fit_transform(X[target_column])\n",
    "\n",
    "    # 4. Aplică OneHotEncoder pe variabilele categorice\n",
    "    X_encoded = pd.get_dummies(X, dtype=float)\n",
    "\n",
    "    return X_encoded"
   ]
  },
  {
   "cell_type": "markdown",
   "metadata": {},
   "source": [
    "Antrenarea și utilizarea modelului"
   ]
  },
  {
   "cell_type": "code",
   "execution_count": 409,
   "metadata": {},
   "outputs": [],
   "source": [
    "def get_data(full_file, train_file, test_file):\n",
    "    target_column = 'money'\n",
    "    if 'AVC' in full_file:\n",
    "        target_column = 'cerebrovascular_accident'\n",
    "\n",
    "    # 0. Citire date din fisier\n",
    "    X_test = read_csv(test_file)\n",
    "    X_train = read_csv(train_file)\n",
    "    X = read_csv(full_file)\n",
    "\n",
    "    # 1. Imputăm valorile lipsă\n",
    "    X_test = impute_missing_values(X_test, method='SimpleImputer')\n",
    "    X_train = impute_missing_values(X_train, method='SimpleImputer')\n",
    "    X = impute_missing_values(X, method='SimpleImputer')\n",
    "\n",
    "    # 2. Eliminăm coloanele extreme\n",
    "    detect_and_exclude_outliers(X_test)\n",
    "    detect_and_exclude_outliers(X_train)\n",
    "    detect_and_exclude_outliers(X)\n",
    "    \n",
    "    X_test = impute_missing_values(X_test, method='SimpleImputer')\n",
    "    X_train = impute_missing_values(X_train, method='SimpleImputer')\n",
    "    X = impute_missing_values(X, method='SimpleImputer')\n",
    "\n",
    "    # 3. Eliminăm coloanele redundante\n",
    "    eliminate_redundant_atributes(X_test)\n",
    "    eliminate_redundant_atributes(X_train)\n",
    "    eliminate_redundant_atributes(X)\n",
    "\n",
    "    # 4. Normalizăm datele\n",
    "    X_test = normalize_data(X_test, 'StandardScaler')\n",
    "    X_train = normalize_data(X_train, 'StandardScaler')\n",
    "    X = normalize_data(X, 'StandardScaler')\n",
    "\n",
    "    # 5. Change categorical values to numerical\n",
    "    X_test = categorical_to_numeric(X_test, target_column)\n",
    "    X_train = categorical_to_numeric(X_train, target_column)\n",
    "    X = categorical_to_numeric(X, target_column)\n",
    "\n",
    "    X_train = X_train.reindex(columns=X_test.columns, fill_value=0)\n",
    "    X_test = X_test.reindex(columns=X_train.columns, fill_value=0)\n",
    "    X = X.reindex(columns=X_train.columns, fill_value=0)\n",
    "\n",
    "    # Scoatem T-ul\n",
    "    T_test = X_test[target_column]\n",
    "    T_train = X_train[target_column]\n",
    "    T = X[target_column]\n",
    "\n",
    "    T_test = T_test.values\n",
    "    T_train = T_train.values\n",
    "    T = T.values\n",
    "\n",
    "    # Eliminăm T din X\n",
    "    X_train = X_train.drop(target_column, axis=1)\n",
    "    X_test = X_test.drop(target_column, axis=1)\n",
    "    X = X.drop(target_column, axis=1)\n",
    "\n",
    "    X_test = X_test.values\n",
    "    X_train = X_train.values\n",
    "    X = X.values\n",
    "\n",
    "    return X, X_train, X_test, T, T_train, T_test"
   ]
  },
  {
   "cell_type": "code",
   "execution_count": 411,
   "metadata": {},
   "outputs": [
    {
     "name": "stdout",
     "output_type": "stream",
     "text": [
      "Acuratete finala pe setul initial - train: 1.0, test: 1.0\n"
     ]
    }
   ],
   "source": [
    "N_EPOCHS = 500  #@param {type: \"slider\", default: 500, min: 100, max: 1000}\n",
    "N_POINTS = 100  #@param {type: \"slider\", default: 100, min: 50, max: 200}\n",
    "VARIANCE = 0.15  #@param {type: \"slider\", default: 0.15, min: 0.0, max: 0.5}\n",
    "\n",
    "# Obținem datele\n",
    "X, X_train, X_test, T, T_train, T_test = get_data(full_file_avc, train_file_avc, test_file_avc)\n",
    "\n",
    "# Antrenăm modelul\n",
    "w, train_nll, test_nll, train_acc, test_acc = train_and_eval_logistic(X_train, T_train, X_test, T_test, lr=0.1, epochs_no=N_EPOCHS)\n",
    "\n",
    "# Evaluarea modelului\n",
    "Y = predict_logistic(X, w)\n",
    "\n",
    "print(f\"Acuratete finala pe setul initial - train: {train_acc[-1]}, test: {test_acc[-1]}\")"
   ]
  },
  {
   "cell_type": "code",
   "execution_count": 412,
   "metadata": {},
   "outputs": [
    {
     "data": {
      "image/png": "[encoded data removed]",
      "text/plain": [
       "<Figure size 640x480 with 2 Axes>"
      ]
     },
     "metadata": {},
     "output_type": "display_data"
    }
   ],
   "source": [
    "plot_evolution(train_acc, test_acc, train_nll, test_nll)"
   ]
  },
  {
   "cell_type": "markdown",
   "metadata": {},
   "source": [
    "#### Implementare folosind biblioteca scikit-learn"
   ]
  },
  {
   "cell_type": "code",
   "execution_count": 420,
   "metadata": {},
   "outputs": [
    {
     "name": "stdout",
     "output_type": "stream",
     "text": [
      "(4088, 23)\n",
      "(4088,)\n"
     ]
    },
    {
     "ename": "ValueError",
     "evalue": "This solver needs samples of at least 2 classes in the data, but the data contains only one class: 0",
     "output_type": "error",
     "traceback": [
      "\u001b[1;31m---------------------------------------------------------------------------\u001b[0m",
      "\u001b[1;31mValueError\u001b[0m                                Traceback (most recent call last)",
      "Cell \u001b[1;32mIn[420], line 13\u001b[0m\n\u001b[0;32m     11\u001b[0m \u001b[38;5;28mprint\u001b[39m(X_train\u001b[38;5;241m.\u001b[39mshape)\n\u001b[0;32m     12\u001b[0m \u001b[38;5;28mprint\u001b[39m(T_train\u001b[38;5;241m.\u001b[39mshape)\n\u001b[1;32m---> 13\u001b[0m \u001b[43mmodel\u001b[49m\u001b[38;5;241;43m.\u001b[39;49m\u001b[43mfit\u001b[49m\u001b[43m(\u001b[49m\u001b[43mX_train\u001b[49m\u001b[43m,\u001b[49m\u001b[43m \u001b[49m\u001b[43mT_train\u001b[49m\u001b[43m)\u001b[49m\n\u001b[0;32m     15\u001b[0m \u001b[38;5;66;03m# Evaluarea modelului\u001b[39;00m\n\u001b[0;32m     16\u001b[0m T_pred \u001b[38;5;241m=\u001b[39m model\u001b[38;5;241m.\u001b[39mpredict(X_test)\n",
      "File \u001b[1;32m~\\AppData\\Local\\Packages\\PythonSoftwareFoundation.Python.3.12_qbz5n2kfra8p0\\LocalCache\\local-packages\\Python312\\site-packages\\sklearn\\base.py:1474\u001b[0m, in \u001b[0;36m_fit_context.<locals>.decorator.<locals>.wrapper\u001b[1;34m(estimator, *args, **kwargs)\u001b[0m\n\u001b[0;32m   1467\u001b[0m     estimator\u001b[38;5;241m.\u001b[39m_validate_params()\n\u001b[0;32m   1469\u001b[0m \u001b[38;5;28;01mwith\u001b[39;00m config_context(\n\u001b[0;32m   1470\u001b[0m     skip_parameter_validation\u001b[38;5;241m=\u001b[39m(\n\u001b[0;32m   1471\u001b[0m         prefer_skip_nested_validation \u001b[38;5;129;01mor\u001b[39;00m global_skip_validation\n\u001b[0;32m   1472\u001b[0m     )\n\u001b[0;32m   1473\u001b[0m ):\n\u001b[1;32m-> 1474\u001b[0m     \u001b[38;5;28;01mreturn\u001b[39;00m \u001b[43mfit_method\u001b[49m\u001b[43m(\u001b[49m\u001b[43mestimator\u001b[49m\u001b[43m,\u001b[49m\u001b[43m \u001b[49m\u001b[38;5;241;43m*\u001b[39;49m\u001b[43margs\u001b[49m\u001b[43m,\u001b[49m\u001b[43m \u001b[49m\u001b[38;5;241;43m*\u001b[39;49m\u001b[38;5;241;43m*\u001b[39;49m\u001b[43mkwargs\u001b[49m\u001b[43m)\u001b[49m\n",
      "File \u001b[1;32m~\\AppData\\Local\\Packages\\PythonSoftwareFoundation.Python.3.12_qbz5n2kfra8p0\\LocalCache\\local-packages\\Python312\\site-packages\\sklearn\\linear_model\\_logistic.py:1246\u001b[0m, in \u001b[0;36mLogisticRegression.fit\u001b[1;34m(self, X, y, sample_weight)\u001b[0m\n\u001b[0;32m   1244\u001b[0m classes_ \u001b[38;5;241m=\u001b[39m \u001b[38;5;28mself\u001b[39m\u001b[38;5;241m.\u001b[39mclasses_\n\u001b[0;32m   1245\u001b[0m \u001b[38;5;28;01mif\u001b[39;00m n_classes \u001b[38;5;241m<\u001b[39m \u001b[38;5;241m2\u001b[39m:\n\u001b[1;32m-> 1246\u001b[0m     \u001b[38;5;28;01mraise\u001b[39;00m \u001b[38;5;167;01mValueError\u001b[39;00m(\n\u001b[0;32m   1247\u001b[0m         \u001b[38;5;124m\"\u001b[39m\u001b[38;5;124mThis solver needs samples of at least 2 classes\u001b[39m\u001b[38;5;124m\"\u001b[39m\n\u001b[0;32m   1248\u001b[0m         \u001b[38;5;124m\"\u001b[39m\u001b[38;5;124m in the data, but the data contains only one\u001b[39m\u001b[38;5;124m\"\u001b[39m\n\u001b[0;32m   1249\u001b[0m         \u001b[38;5;124m\"\u001b[39m\u001b[38;5;124m class: \u001b[39m\u001b[38;5;132;01m%r\u001b[39;00m\u001b[38;5;124m\"\u001b[39m\n\u001b[0;32m   1250\u001b[0m         \u001b[38;5;241m%\u001b[39m classes_[\u001b[38;5;241m0\u001b[39m]\n\u001b[0;32m   1251\u001b[0m     )\n\u001b[0;32m   1253\u001b[0m \u001b[38;5;28;01mif\u001b[39;00m \u001b[38;5;28mlen\u001b[39m(\u001b[38;5;28mself\u001b[39m\u001b[38;5;241m.\u001b[39mclasses_) \u001b[38;5;241m==\u001b[39m \u001b[38;5;241m2\u001b[39m:\n\u001b[0;32m   1254\u001b[0m     n_classes \u001b[38;5;241m=\u001b[39m \u001b[38;5;241m1\u001b[39m\n",
      "\u001b[1;31mValueError\u001b[0m: This solver needs samples of at least 2 classes in the data, but the data contains only one class: 0"
     ]
    }
   ],
   "source": [
    "from sklearn.linear_model import LogisticRegression\n",
    "from sklearn.metrics import accuracy_score\n",
    "\n",
    "# Pregătirea datelor\n",
    "X, X_train, X_test, T, T_train, T_test = get_data(full_file_avc, train_file_avc, test_file_avc)\n",
    "\n",
    "# Definirea modelului\n",
    "model = LogisticRegression()\n",
    "\n",
    "# Antrenarea modelului\n",
    "print(X_train.shape)\n",
    "print(T_train.shape)\n",
    "model.fit(X_train, T_train)\n",
    "\n",
    "# Evaluarea modelului\n",
    "T_pred = model.predict(X_test)\n",
    "accuracy = accuracy_score(T_test, T_pred)\n",
    "print(\"Accuracy:\", accuracy)"
   ]
  },
  {
   "cell_type": "markdown",
   "metadata": {},
   "source": [
    "### Multi-Layered Perceptron (MLP)"
   ]
  },
  {
   "cell_type": "markdown",
   "metadata": {},
   "source": [
    "#### Implementare manuală"
   ]
  },
  {
   "cell_type": "code",
   "execution_count": 422,
   "metadata": {},
   "outputs": [],
   "source": [
    "class Layer:\n",
    "\n",
    "    def forward(self, x: np.ndarray) -> np.ndarray:\n",
    "        raise NotImplementedError\n",
    "        \n",
    "    def backward(self, x: np.ndarray, dy: np.ndarray) -> np.ndarray:\n",
    "        raise NotImplementedError\n",
    "        \n",
    "    def update(self, *args, **kwargs):\n",
    "        pass  # If a layer has no parameters, then this function does nothing"
   ]
  },
  {
   "cell_type": "code",
   "execution_count": 432,
   "metadata": {},
   "outputs": [],
   "source": [
    "from typing import List\n",
    "\n",
    "class FeedForwardNetwork:\n",
    "    \n",
    "    def __init__(self, layers: List[Layer]):\n",
    "        self.layers = layers\n",
    "        \n",
    "    def forward(self, x: np.ndarray, train: bool = True) -> np.ndarray:\n",
    "        self._inputs = []\n",
    "        for layer in self.layers:\n",
    "            if train:\n",
    "                self._inputs.append(x)\n",
    "            x = layer.forward(x)\n",
    "        return x\n",
    "    \n",
    "    def backward(self, dy: np.ndarray) -> np.ndarray:\n",
    "        # TODO <0> : Calculati gradientul cu fiecare strat\n",
    "        # Pasi:\n",
    "        #   - iterati in ordine inversa prin straturile retelei si apelati pentru fiecare dintre ele metoda backward\n",
    "        #   - folositi self._inputs salvate la fiecare pas din forward pentru a calcula gradientul cu respectivul strat\n",
    "        #   - transmiteti mai departe valoarea returnata de metoda backward catre urmatorul strat\n",
    "        #   - incepeti cu gradientul fata de output (dy, primit ca argument).\n",
    "        # reversed_layers = reversed(self.layers)\n",
    "        # index = len(self.layers) - 1\n",
    "\n",
    "        # for layer in reversed_layers:\n",
    "        #     dy = layer.backward(self._inputs[index], dy)\n",
    "        #     index -= 1\n",
    "\n",
    "        for x, layer in zip(reversed(self._inputs), reversed(self.layers)):\n",
    "            dy = layer.backward(x, dy)\n",
    "    \n",
    "        return dy\n",
    "    \n",
    "    def update(self, *args, **kwargs):\n",
    "        for layer in self.layers:\n",
    "            layer.update(*args, **kwargs)"
   ]
  },
  {
   "cell_type": "code",
   "execution_count": 427,
   "metadata": {},
   "outputs": [],
   "source": [
    "class Linear(Layer):\n",
    "    \n",
    "    def __init__(self, insize: int, outsize: int) -> None:\n",
    "        bound = np.sqrt(6. / insize)\n",
    "        self.weight = np.random.uniform(-bound, bound, (insize, outsize))\n",
    "        self.bias = np.zeros((outsize,))\n",
    "        \n",
    "        self.dweight = np.zeros_like(self.weight)\n",
    "        self.dbias = np.zeros_like(self.bias)\n",
    "\n",
    "    def forward(self, x: np.ndarray) -> np.ndarray:\n",
    "        # TODO <1>: calculați ieșirea unui strat liniar\n",
    "        # x - este o matrice numpy B x M, unde \n",
    "        #    B - dimensiunea batchului,\n",
    "        #    M - dimensiunea caracteristicilor de intrare (insize)\n",
    "        # Sugestie: folosiți înmulțirea matricială numpy pentru a implementa propagarea înainte într-o singură trecere\n",
    "        # pentru toate exemplele din batch\n",
    "        self.x = x\n",
    "        return np.dot(x, self.weight) + self.bias\n",
    "\n",
    "\n",
    "    def backward(self, x: np.ndarray, dy: np.ndarray) -> np.ndarray:\n",
    "        # TODO <2> : calculați dweight, dbias și returnați dx\n",
    "        # x - este o matrice numpy B x M, unde \n",
    "        #     B - dimensiunea batchului, \n",
    "        #     M - dimensiunea caracteristicilor (features) de intrare (insize)\n",
    "        # dy - este o matrice numpy B x N, unde \n",
    "        #     B - dimensiunea batchului, \n",
    "        #     N - dimensiunea caracteristicilor (features) de ieșire (outsize)\n",
    "        # Sugestie: folosiți înmulțirea matricială numpy pentru a implementa propagarea înapoi într-o singură trecere \n",
    "        #       pentru self.dweight\n",
    "        # Sugestie: folosiți numpy.sum pentru a implementa propagarea înapoi într-o singură trecere pentru self.dbias\n",
    "        self.dweight = np.dot(self.x.T, dy)\n",
    "        self.dbias = np.sum(dy, axis=0)\n",
    "        return np.dot(dy, self.weight.T)\n",
    "    \n",
    "    def update(self, mode='SGD', lr=0.001, mu=0.9):\n",
    "        if mode == 'SGD':\n",
    "            self.weight -= lr * self.dweight\n",
    "            self.bias -= lr * self.dbias\n",
    "        else:\n",
    "            raise ValueError('mode should be SGD, not ' + str(mode))"
   ]
  },
  {
   "cell_type": "markdown",
   "metadata": {},
   "source": [
    "##### Funcția Rectified Linial Unit"
   ]
  },
  {
   "cell_type": "code",
   "execution_count": 424,
   "metadata": {},
   "outputs": [],
   "source": [
    "class ReLU(Layer):\n",
    "    \n",
    "    def __init__(self) -> None:\n",
    "        pass\n",
    "    \n",
    "    def forward(self, x: np.ndarray) -> np.ndarray:\n",
    "        # TODO <3> : Calculați ieșirea unei unități liniare rectificate\n",
    "        return np.maximum(x, 0)\n",
    "    \n",
    "    def backward(self, x: np.ndarray, dy: np.ndarray) -> np.ndarray:\n",
    "        # TODO <4> : Calculați gradientul față de x\n",
    "        # x - este o matrice numpy B x M, unde B - dimensiunea batchului, M - dimensiunea caracteristicilor\n",
    "        # Sugestie: utilizați indexarea logică numpy pentru a determina unde intrarea (x) este negativă\n",
    "        #       și faceți gradientul 0 pentru acele exemple\n",
    "        dx = np.where(x > 0, 1, 0)  # Creates a mask with 1 where x > 0 and 0 otherwise\n",
    "        return dy * dx\n",
    "\n",
    "        raise NotImplementedError"
   ]
  },
  {
   "cell_type": "markdown",
   "metadata": {},
   "source": [
    "##### Funcția de cost"
   ]
  },
  {
   "cell_type": "code",
   "execution_count": 425,
   "metadata": {},
   "outputs": [],
   "source": [
    "class CrossEntropy:\n",
    "    \n",
    "    def __init__(self):\n",
    "        pass\n",
    "    \n",
    "    def softmax(self, x):\n",
    "        exps = np.exp(x)\n",
    "        return exps / np.sum(exps,axis = 1).reshape(-1,1)\n",
    "\n",
    "    def forward(self, y: np.ndarray, t: np.ndarray) -> float:\n",
    "        # TODO <5> : Calculați probabilitatea logaritmică negativă\n",
    "        # y - matrice numpy (B, K), unde B - dimensiunea batch-ului, K - numărul de clase (numărul de logaritmi)\n",
    "        # t - vector numpy (B, ), unde B - dimensiunea batch-ului, care indică clasa corectă\n",
    "        # Pasi: \n",
    "        #   - folositi softmax() pe intrari pentru a transforma logits (y) in probabilitati\n",
    "        #   - selectati probabilitatile care corespund clasei reale (t)\n",
    "        #   - calculati -log() peste probabilitati\n",
    "        #   - impartiti la batch size pentru a calcula valoarea medie peste toate exemplele din batch\n",
    "        p = self.softmax(y)\n",
    "        correct_class_probabilities = p[np.arange(y.shape[0]), t]\n",
    "        negative_log_likelihood = -np.log(correct_class_probabilities)\n",
    "        mean_value = np.sum(negative_log_likelihood) / y.shape[0]\n",
    "\n",
    "        return mean_value\n",
    "    \n",
    "    def backward(self, y: np.ndarray, t: np.ndarray) -> np.ndarray:\n",
    "        # TODO <6> : Calculati dl/dy\n",
    "        # Pasi: \n",
    "        #   - calculati softmax(y) pentru a determina probabilitatea ca fiecare element sa apartina clasei i\n",
    "        #   - ajustati gradientii pentru clasa corecta: aplicati scaderea dL/dy_i = pi - delta_ti conform formulelor de mai sus\n",
    "        #   - impartiti la batch size pentru a calcula valoarea medie peste toate exemplele din batch\n",
    "        pi = self.softmax(y)\n",
    "        t_one_hot = np.zeros_like(y)\n",
    "        t_one_hot[np.arange(y.shape[0]), t] = 1\n",
    "        dy = (pi - t_one_hot) / y.shape[0]\n",
    "\n",
    "\n",
    "        return dy\n"
   ]
  },
  {
   "cell_type": "markdown",
   "metadata": {},
   "source": [
    "##### Acuratețea"
   ]
  },
  {
   "cell_type": "code",
   "execution_count": 428,
   "metadata": {},
   "outputs": [],
   "source": [
    "def accuracy(y: np.ndarray, t: np.ndarray) -> float:\n",
    "    # TODO <7> : Calculati acuratetea\n",
    "    # Pasi: \n",
    "    # - folosiți np.argmax() pentru a afla predictiile retelei\n",
    "    # - folositi np.sum() pentru a numara cate sunt corecte comparand cu ground truth (t)\n",
    "    # - impartiti la batch size pentru a calcula valoarea medie peste toate exemplele din batch\n",
    "    prediction = np.argmax(y, axis = 1)\n",
    "    correct_predictions = np.sum(prediction == t)\n",
    "    accuracy = correct_predictions / y.shape[0]\n",
    "    return accuracy"
   ]
  },
  {
   "cell_type": "markdown",
   "metadata": {},
   "source": [
    "##### Antrenarea rețelei neurale"
   ]
  },
  {
   "cell_type": "code",
   "execution_count": 434,
   "metadata": {},
   "outputs": [
    {
     "name": "stdout",
     "output_type": "stream",
     "text": [
      "\n"
     ]
    },
    {
     "ename": "ValueError",
     "evalue": "shapes (9999,105) and (784,300) not aligned: 105 (dim 1) != 784 (dim 0)",
     "output_type": "error",
     "traceback": [
      "\u001b[1;31m---------------------------------------------------------------------------\u001b[0m",
      "\u001b[1;31mValueError\u001b[0m                                Traceback (most recent call last)",
      "Cell \u001b[1;32mIn[434], line 26\u001b[0m\n\u001b[0;32m     19\u001b[0m \u001b[38;5;66;03m# 2. Calculam gradientul\u001b[39;00m\n\u001b[0;32m     20\u001b[0m \u001b[38;5;66;03m# TODO <8>:\u001b[39;00m\n\u001b[0;32m     21\u001b[0m \u001b[38;5;66;03m# Hint: propagam batch-ul `x` prin reteaua `net`\u001b[39;00m\n\u001b[0;32m     22\u001b[0m \u001b[38;5;66;03m#       calculam eroarea pe baza iesirii retelei, folosind `cost_function` \u001b[39;00m\n\u001b[0;32m     23\u001b[0m \u001b[38;5;66;03m#       obtinem gradientul erorii in raport cu iesirea retelei, folosind `backward` pentru `cost_function`\u001b[39;00m\n\u001b[0;32m     24\u001b[0m \u001b[38;5;66;03m#       obtinem gradientul in raport cu ponderile retelei `net` folosind `backward` pentru `net`\u001b[39;00m\n\u001b[0;32m     25\u001b[0m \u001b[38;5;28mprint\u001b[39m()\n\u001b[1;32m---> 26\u001b[0m y \u001b[38;5;241m=\u001b[39m \u001b[43mnet\u001b[49m\u001b[38;5;241;43m.\u001b[39;49m\u001b[43mforward\u001b[49m\u001b[43m(\u001b[49m\u001b[43mx\u001b[49m\u001b[43m)\u001b[49m\n\u001b[0;32m     27\u001b[0m loss \u001b[38;5;241m=\u001b[39m cost_function\u001b[38;5;241m.\u001b[39mforward(y, t)\n\u001b[0;32m     28\u001b[0m dy \u001b[38;5;241m=\u001b[39m cost_function\u001b[38;5;241m.\u001b[39mbackward(y, t)\n",
      "Cell \u001b[1;32mIn[432], line 13\u001b[0m, in \u001b[0;36mFeedForwardNetwork.forward\u001b[1;34m(self, x, train)\u001b[0m\n\u001b[0;32m     11\u001b[0m     \u001b[38;5;28;01mif\u001b[39;00m train:\n\u001b[0;32m     12\u001b[0m         \u001b[38;5;28mself\u001b[39m\u001b[38;5;241m.\u001b[39m_inputs\u001b[38;5;241m.\u001b[39mappend(x)\n\u001b[1;32m---> 13\u001b[0m     x \u001b[38;5;241m=\u001b[39m \u001b[43mlayer\u001b[49m\u001b[38;5;241;43m.\u001b[39;49m\u001b[43mforward\u001b[49m\u001b[43m(\u001b[49m\u001b[43mx\u001b[49m\u001b[43m)\u001b[49m\n\u001b[0;32m     14\u001b[0m \u001b[38;5;28;01mreturn\u001b[39;00m x\n",
      "Cell \u001b[1;32mIn[427], line 19\u001b[0m, in \u001b[0;36mLinear.forward\u001b[1;34m(self, x)\u001b[0m\n\u001b[0;32m     11\u001b[0m \u001b[38;5;28;01mdef\u001b[39;00m \u001b[38;5;21mforward\u001b[39m(\u001b[38;5;28mself\u001b[39m, x: np\u001b[38;5;241m.\u001b[39mndarray) \u001b[38;5;241m-\u001b[39m\u001b[38;5;241m>\u001b[39m np\u001b[38;5;241m.\u001b[39mndarray:\n\u001b[0;32m     12\u001b[0m     \u001b[38;5;66;03m# TODO <1>: calculați ieșirea unui strat liniar\u001b[39;00m\n\u001b[0;32m     13\u001b[0m     \u001b[38;5;66;03m# x - este o matrice numpy B x M, unde \u001b[39;00m\n\u001b[1;32m   (...)\u001b[0m\n\u001b[0;32m     16\u001b[0m     \u001b[38;5;66;03m# Sugestie: folosiți înmulțirea matricială numpy pentru a implementa propagarea înainte într-o singură trecere\u001b[39;00m\n\u001b[0;32m     17\u001b[0m     \u001b[38;5;66;03m# pentru toate exemplele din batch\u001b[39;00m\n\u001b[0;32m     18\u001b[0m     \u001b[38;5;28mself\u001b[39m\u001b[38;5;241m.\u001b[39mx \u001b[38;5;241m=\u001b[39m x\n\u001b[1;32m---> 19\u001b[0m     \u001b[38;5;28;01mreturn\u001b[39;00m \u001b[43mnp\u001b[49m\u001b[38;5;241;43m.\u001b[39;49m\u001b[43mdot\u001b[49m\u001b[43m(\u001b[49m\u001b[43mx\u001b[49m\u001b[43m,\u001b[49m\u001b[43m \u001b[49m\u001b[38;5;28;43mself\u001b[39;49m\u001b[38;5;241;43m.\u001b[39;49m\u001b[43mweight\u001b[49m\u001b[43m)\u001b[49m \u001b[38;5;241m+\u001b[39m \u001b[38;5;28mself\u001b[39m\u001b[38;5;241m.\u001b[39mbias\n",
      "\u001b[1;31mValueError\u001b[0m: shapes (9999,105) and (784,300) not aligned: 105 (dim 1) != 784 (dim 0)"
     ]
    }
   ],
   "source": [
    "BATCH_SIZE = 1\n",
    "HIDDEN_UNITS = 300\n",
    "EPOCHS_NO = 20\n",
    "\n",
    "optimize_args = {'mode': 'SGD', 'lr': .005}\n",
    "\n",
    "net = FeedForwardNetwork([Linear(784, HIDDEN_UNITS),\n",
    "                          ReLU(),\n",
    "                          Linear(HIDDEN_UNITS, 10)])\n",
    "cost_function = CrossEntropy()\n",
    "\n",
    "for epoch in range(EPOCHS_NO):\n",
    "    # for b_no, idx in enumerate(range(0, len(train_imgs), BATCH_SIZE)):\n",
    "    # 1. Pregatim urmatorul batch\n",
    "    data = get_data(full_file, train_file, test_file)\n",
    "    x = data[0]\n",
    "    t = data[3]\n",
    "    \n",
    "    # 2. Calculam gradientul\n",
    "    # TODO <8>:\n",
    "    # Hint: propagam batch-ul `x` prin reteaua `net`\n",
    "    #       calculam eroarea pe baza iesirii retelei, folosind `cost_function` \n",
    "    #       obtinem gradientul erorii in raport cu iesirea retelei, folosind `backward` pentru `cost_function`\n",
    "    #       obtinem gradientul in raport cu ponderile retelei `net` folosind `backward` pentru `net`\n",
    "    print()\n",
    "    y = net.forward(x)\n",
    "    loss = cost_function.forward(y, t)\n",
    "    dy = cost_function.backward(y, t)\n",
    "    net.backward(dy)\n",
    "    \n",
    "    \n",
    "    # 3. Actualizam parametrii retelei\n",
    "    net.update(**optimize_args)\n",
    "    \n",
    "    print(f'\\rEpoch {epoch + 1:02d} '\n",
    "            f'| Batch {b_no:03d} '\n",
    "            f'| Train NLL: {loss:6.3f} '\n",
    "            f'| Train Acc: {accuracy(y, t) * 100:6.2f}% ', end='')\n",
    "\n",
    "    y = net.forward(test_imgs.reshape(-1, 784), train=False)\n",
    "    test_nll = cost_function.forward(y, test_labels)\n",
    "    print(f'| Test NLL: {test_nll:6.3f} '\n",
    "          f'| Test Acc: {accuracy(y, test_labels) * 100:3.2f}%')"
   ]
  },
  {
   "cell_type": "markdown",
   "metadata": {},
   "source": [
    "#### Implementare folosind biblioteca sckit-learn"
   ]
  },
  {
   "cell_type": "code",
   "execution_count": 433,
   "metadata": {},
   "outputs": [
    {
     "name": "stdout",
     "output_type": "stream",
     "text": [
      "Accuracy: 1.0\n"
     ]
    }
   ],
   "source": [
    "from sklearn.neural_network import MLPClassifier\n",
    "from sklearn.metrics import accuracy_score\n",
    "\n",
    "# Pregătirea datelor\n",
    "X, X_train, X_test, T, T_train, T_test = get_data(full_file_avc, train_file_avc, test_file_avc)\n",
    "\n",
    "# Pregătire model\n",
    "model = MLPClassifier(hidden_layer_sizes=(100,), max_iter=1000)\n",
    "\n",
    "# Antrenarea modelului\n",
    "model.fit(X_train, T_train)\n",
    "\n",
    "# Paso 6: Evaluarea modelului\n",
    "T_pred = model.predict(X_test)\n",
    "accuracy = accuracy_score(T_test, T_pred)\n",
    "print(\"Accuracy:\", accuracy)"
   ]
  },
  {
   "cell_type": "markdown",
   "metadata": {},
   "source": [
    "## Evaluarea algoritmilor"
   ]
  },
  {
   "cell_type": "code",
   "execution_count": 27,
   "metadata": {},
   "outputs": [],
   "source": [
    "# Citirea datelor\n",
    "\n",
    "# Preprocesarea datelor\n",
    "\n",
    "# Utilizarea unui model de regresie pentru a prezice salariul\n",
    "\n",
    "# Utilizarea unui model MLP pentru a prezice salariul"
   ]
  }
 ],
 "metadata": {
  "kernelspec": {
   "display_name": "Python 3",
   "language": "python",
   "name": "python3"
  },
  "language_info": {
   "codemirror_mode": {
    "name": "ipython",
    "version": 3
   },
   "file_extension": ".py",
   "mimetype": "text/x-python",
   "name": "python",
   "nbconvert_exporter": "python",
   "pygments_lexer": "ipython3",
   "version": "3.12.3"
  }
 },
 "nbformat": 4,
 "nbformat_minor": 2
}
